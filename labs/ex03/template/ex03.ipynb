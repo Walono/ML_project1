{
 "cells": [
  {
   "cell_type": "code",
   "execution_count": 4,
   "metadata": {
    "collapsed": false
   },
   "outputs": [],
   "source": [
    "# Useful starting lines\n",
    "%matplotlib inline\n",
    "import numpy as np\n",
    "import matplotlib.pyplot as plt\n",
    "%load_ext autoreload\n",
    "%autoreload 2\n",
    "from costs import * "
   ]
  },
  {
   "cell_type": "markdown",
   "metadata": {},
   "source": [
    "# Least squares and linear basis functions models\n",
    "## Least squares"
   ]
  },
  {
   "cell_type": "code",
   "execution_count": 5,
   "metadata": {
    "collapsed": false
   },
   "outputs": [],
   "source": [
    "def least_squares(y, tx):\n",
    "    w = np.dot(np.dot(np.linalg.inv(np.dot(np.transpose(tx),tx)),np.transpose(tx)),y)\n",
    "    mse = compute_loss(y, tx, w)\n",
    "    return mse, w"
   ]
  },
  {
   "cell_type": "markdown",
   "metadata": {},
   "source": [
    "### Load the data\n",
    "Here we will reuse the dataset `height_weight_genders.csv` from previous exercise section to check the correctness of your implementation. Please compare it with your previous result."
   ]
  },
  {
   "cell_type": "code",
   "execution_count": 6,
   "metadata": {
    "collapsed": false
   },
   "outputs": [
    {
     "name": "stdout",
     "output_type": "stream",
     "text": [
      "result: [ 73.293922    13.47971243]\n"
     ]
    }
   ],
   "source": [
    "from helpers import *\n",
    "def test_your_least_squares():\n",
    "    height, weight, gender = load_data_from_ex02(sub_sample=False, add_outlier=False)\n",
    "    x, mean_x, std_x = standardize(height)\n",
    "    y, tx = build_model_data(x, weight)\n",
    "    mse, w = least_squares(y,tx)\n",
    "    print(\"result:\",w)\n",
    "    # ***************************************************\n",
    "    # INSERT YOUR CODE HERE\n",
    "    # least square or grid search: TODO\n",
    "    # this code should compare the optimal weights obtained \n",
    "    # by least squares vs. grid search\n",
    "    # ***************************************************\n",
    "    #raise NotImplementedError\n",
    "\n",
    "test_your_least_squares()"
   ]
  },
  {
   "cell_type": "markdown",
   "metadata": {},
   "source": [
    "## Least squares with a linear basis function model\n",
    "Start from this section, we will use the dataset `dataEx3.csv`.\n",
    "\n",
    "### Implement polynomial basis functions"
   ]
  },
  {
   "cell_type": "code",
   "execution_count": 7,
   "metadata": {
    "collapsed": false,
    "scrolled": true
   },
   "outputs": [
    {
     "name": "stdout",
     "output_type": "stream",
     "text": [
      "shape of x (50,)\n",
      "shape of y (50,)\n"
     ]
    }
   ],
   "source": [
    "# load dataset\n",
    "x, y = load_data()\n",
    "print(\"shape of x {}\".format(x.shape))\n",
    "print(\"shape of y {}\".format(y.shape))"
   ]
  },
  {
   "cell_type": "code",
   "execution_count": null,
   "metadata": {
    "collapsed": true
   },
   "outputs": [],
   "source": []
  },
  {
   "cell_type": "code",
   "execution_count": null,
   "metadata": {
    "collapsed": true
   },
   "outputs": [],
   "source": []
  },
  {
   "cell_type": "code",
   "execution_count": 8,
   "metadata": {
    "collapsed": false
   },
   "outputs": [
    {
     "name": "stdout",
     "output_type": "stream",
     "text": [
      "(50, 1)\n",
      "(50, 2)\n",
      "(50, 2)\n",
      "(50, 3)\n",
      "(50, 3)\n",
      "(50, 4)\n",
      "(50, 4)\n"
     ]
    }
   ],
   "source": [
    "def build_poly(x, degree):\n",
    "    \"\"\"polynomial basis functions for input data x, for j=0 up to j=degree.\"\"\"    \n",
    "    Phi_tilde = np.ones((len(x),1))\n",
    "    for i in range(1, degree+1):\n",
    "        power_column = []\n",
    "        for j in range (len(x)):\n",
    "            power_column = np.append(power_column, np.power(x[j],i))\n",
    "            #Phi.append(x[j]**i)\n",
    "        print(np.shape(Phi_tilde))    \n",
    "        #print(power_column.shape)    \n",
    "        #np.concatenate((Phi, power_column), axis=1)\n",
    "        Phi_tilde = np.concatenate((Phi_tilde,power_column.reshape([len(x),1])), axis=1)\n",
    "        print(np.shape(Phi_tilde))\n",
    "    \n",
    "    return Phi_tilde\n",
    "\n",
    "phi = build_poly(x, 3)\n",
    "print(np.shape(phi))"
   ]
  },
  {
   "cell_type": "markdown",
   "metadata": {},
   "source": [
    "Let us play with polynomial regression. Note that we will use your implemented function `compute_mse`. Please copy and paste your implementation from exercise02."
   ]
  },
  {
   "cell_type": "code",
   "execution_count": 9,
   "metadata": {
    "collapsed": false
   },
   "outputs": [
    {
     "name": "stdout",
     "output_type": "stream",
     "text": [
      "Processing 1th experiment, degree=1, rmse=0.47187607963421874\n",
      "Processing 2th experiment, degree=3, rmse=0.25858277667737484\n",
      "Processing 3th experiment, degree=7, rmse=0.2496587036090912\n",
      "Processing 4th experiment, degree=12, rmse=0.25427451176305493\n"
     ]
    },
    {
     "data": {
      "image/png": "[encoded data removed]",
      "text/plain": [
       "<matplotlib.figure.Figure at 0x10a665240>"
      ]
     },
     "metadata": {},
     "output_type": "display_data"
    }
   ],
   "source": [
    "from plots import *\n",
    "\n",
    "def polynomial_regression():\n",
    "    \"\"\"Constructing the polynomial basis function expansion of the data,\n",
    "       and then running least squares regression.\"\"\"\n",
    "    # define parameters\n",
    "    degrees = [1, 3, 7, 12]\n",
    "    \n",
    "    # define the structure of figure\n",
    "    num_row = 2\n",
    "    num_col = 2\n",
    "    f, axs = plt.subplots(num_row, num_col)\n",
    "\n",
    "    for ind, degree in enumerate(degrees):\n",
    "        Phi_tilde= build_poly(x,degree)\n",
    "        #print(Phi_tilde)\n",
    "        # ***************************************************\n",
    "        # INSERT YOUR CODE HERE\n",
    "        # form the data to do polynomial regression.: TODO\n",
    "        # ***************************************************\n",
    "        #raise NotImplementedError\n",
    "        mse, weight = least_squares(y, Phi_tilde)\n",
    "        rmse = np.sqrt(2*mse)\n",
    "        # ***************************************************\n",
    "        # INSERT YOUR CODE HERE\n",
    "        # least square and calculate rmse: TODO\n",
    "        # ***************************************************\n",
    "        \n",
    "        #raise NotImplementedError\n",
    "\n",
    "        print(\"Processing {i}th experiment, degree={d}, rmse={loss}\".format(\n",
    "              i=ind + 1, d=degree, loss=rmse))\n",
    "        # plot fit\n",
    "        plot_fitted_curve(\n",
    "            y, x, weight, degree, axs[ind // num_col][ind % num_col])\n",
    "    plt.tight_layout()\n",
    "    plt.savefig(\"visualize_polynomial_regression\")\n",
    "    plt.show()\n",
    "\n",
    "\n",
    "polynomial_regression()"
   ]
  },
  {
   "cell_type": "markdown",
   "metadata": {},
   "source": [
    "# Evaluating model predication performance\n",
    "\n",
    "Let us show the train and test splits for various polynomial degrees. First of all, please fill in the function `split_data()`"
   ]
  },
  {
   "cell_type": "code",
   "execution_count": 34,
   "metadata": {
    "collapsed": false
   },
   "outputs": [],
   "source": [
    "def split_data(x, y, ratio, seed=1):\n",
    "    \"\"\"split the dataset based on the split ratio.\"\"\"\n",
    "    # set seed\n",
    "    np.random.seed(seed)\n",
    "    print(x)\n",
    "    x = x.reshape([len(x),1])\n",
    "    y = y.reshape([len(y),1])\n",
    "    print(x)\n",
    "   \n",
    "    xy = np.concatenate((x, y), axis=1)\n",
    "    print(xy)\n",
    "    random_xy = np.random.shuffle(xy)\n",
    "    \n",
    "    x = xy[:,0]\n",
    "    y = xy[:,1]\n",
    "    print(x)\n",
    "    print(y)\n",
    "    #ratio = np.rint(len(x)*ratio)\n",
    "    ratio = np.round(len(x)*ratio).astype(np.int)\n",
    "    \n",
    "    x_tr = x[0:ratio]\n",
    "    x_te = x[ratio:len(x)]\n",
    "    y_tr = y[0:ratio]\n",
    "    y_te = y[ratio:len(y)]\n",
    "    \n",
    "    return x_tr, y_tr, x_te, y_te"
   ]
  },
  {
   "cell_type": "code",
   "execution_count": 35,
   "metadata": {
    "collapsed": false
   },
   "outputs": [
    {
     "name": "stdout",
     "output_type": "stream",
     "text": [
      "[2 3 1 0]\n",
      "[[2]\n",
      " [3]\n",
      " [1]\n",
      " [0]]\n",
      "[[2 8]\n",
      " [3 3]\n",
      " [1 7]\n",
      " [0 6]]\n",
      "[0 1 2 3]\n",
      "[6 7 8 3]\n"
     ]
    },
    {
     "data": {
      "text/plain": [
       "(array([0, 1, 2, 3]),\n",
       " array([6, 7, 8, 3]),\n",
       " array([], dtype=int64),\n",
       " array([], dtype=int64))"
      ]
     },
     "execution_count": 35,
     "metadata": {},
     "output_type": "execute_result"
    }
   ],
   "source": [
    "a = np.array([2,3,1,0])\n",
    "b = np.array([8,3,7,6])\n",
    "\n",
    "split_data(a, b, 2)"
   ]
  },
  {
   "cell_type": "code",
   "execution_count": 13,
   "metadata": {
    "collapsed": false
   },
   "outputs": [
    {
     "name": "stdout",
     "output_type": "stream",
     "text": [
      "[ 0.35237491  4.8951233   1.86662437  3.50706129  3.38087384  0.73093728\n",
      "  3.88562366  5.65224803  6.28318531  2.37137419  0.60474982  3.63324875\n",
      "  0.85712473  2.49756165  1.61424946  5.39987312  6.15699785  6.0308104\n",
      "  0.47856237  2.87612401  4.51656093  0.98331219  1.10949964  0.1\n",
      "  2.11899928  1.36187455  4.01181111  5.77843549  4.26418602  1.2356871\n",
      "  2.24518674  1.99281183  1.48806201  4.64274839  4.39037348  3.00231147\n",
      "  0.22618746  5.27368567  5.02131076  5.52606058  2.6237491   4.76893584\n",
      "  3.12849893  1.74043692  3.7594362   3.25468638  5.90462294  4.13799857\n",
      "  2.74993656  5.14749821]\n",
      "[  8.95549970e-02  -1.28027608e+00   1.28930361e+00  -2.68157012e-01\n",
      "  -2.06807030e-01   5.38669461e-01  -4.84226326e-01  -1.05814170e+00\n",
      "   2.22695473e-01   1.94693837e-01   4.37144573e-01  -3.01041920e-01\n",
      "   4.25144932e-01   3.76102400e-02   8.33364051e-01  -4.37345163e-01\n",
      "  -1.41108000e-04  -3.08575746e-01   7.22554859e-01  -3.72595292e-01\n",
      "  -7.37222919e-01   9.51211821e-01   6.05998553e-01   3.59152612e-01\n",
      "   7.77071848e-01   3.88647453e-01  -5.59911457e-01  -5.68519390e-01\n",
      "  -1.29168955e+00   9.94909022e-01   7.00138842e-01   7.27781486e-01\n",
      "   7.73288841e-01  -7.46011639e-01  -1.33397556e+00  -1.50508406e-01\n",
      "   2.52524512e-01  -9.56348655e-01  -1.30763072e+00  -8.26518932e-01\n",
      "   6.67509379e-01  -5.72305352e-01   7.69121860e-02   7.39727694e-01\n",
      "  -1.06662741e+00   3.05224230e-02  -7.66467434e-01  -8.35127298e-01\n",
      "   1.21879684e-01  -1.04670162e+00]\n"
     ]
    }
   ],
   "source": [
    "print(x)\n",
    "print(y)"
   ]
  },
  {
   "cell_type": "code",
   "execution_count": null,
   "metadata": {
    "collapsed": true
   },
   "outputs": [],
   "source": []
  },
  {
   "cell_type": "markdown",
   "metadata": {},
   "source": [
    "Then, test your `split_data` function below."
   ]
  },
  {
   "cell_type": "code",
   "execution_count": 27,
   "metadata": {
    "collapsed": false
   },
   "outputs": [
    {
     "name": "stdout",
     "output_type": "stream",
     "text": [
      "proportion=0.9, degree=1, Training RMSE=0.494, Testing RMSE=0.181\n",
      "proportion=0.9, degree=3, Training RMSE=0.264, Testing RMSE=0.206\n",
      "proportion=0.9, degree=7, Training RMSE=0.254, Testing RMSE=0.220\n",
      "proportion=0.9, degree=12, Training RMSE=2.252, Testing RMSE=2.095\n",
      "proportion=0.5, degree=1, Training RMSE=0.455, Testing RMSE=0.531\n",
      "proportion=0.5, degree=3, Training RMSE=0.239, Testing RMSE=0.296\n",
      "proportion=0.5, degree=7, Training RMSE=0.232, Testing RMSE=0.284\n",
      "proportion=0.5, degree=12, Training RMSE=0.900, Testing RMSE=1.803\n",
      "proportion=0.1, degree=1, Training RMSE=0.428, Testing RMSE=0.534\n",
      "proportion=0.1, degree=3, Training RMSE=0.085, Testing RMSE=0.460\n",
      "proportion=0.1, degree=7, Training RMSE=4.852, Testing RMSE=4.108\n",
      "proportion=0.1, degree=12, Training RMSE=13.260, Testing RMSE=236.883\n"
     ]
    }
   ],
   "source": [
    "def train_test_split_demo(x, y, degree, ratio, seed):\n",
    "    \"\"\"polynomial regression with different split ratios and different degrees.\"\"\"\n",
    "    x_tr, y_tr, x_te, y_te = split_data(x, y, ratio, seed)\n",
    "    \n",
    "    Phi_tr = build_poly(x_tr,degree)\n",
    "    Phi_te = build_poly(x_te,degree)    \n",
    "    \n",
    "    mse_tr, weight_tr = least_squares(y_tr, Phi_tr)    \n",
    "    \n",
    "    #Prediction output\n",
    "    y_te_pr = np.dot(Phi_te, weight_tr)\n",
    "    #Mse output compared to test data\n",
    "    mse_te = (y_te - y_te_pr)**2\n",
    "    mse_te = np.sum(mse_te)/(2*len(y_te))#, weight_te = least_squares(y_te, Phi_te)\n",
    "    \n",
    "    \n",
    "    rmse_tr = np.sqrt(2*mse_tr)\n",
    "    rmse_te = np.sqrt(2*mse_te)\n",
    "    \n",
    "    print(\"proportion={p}, degree={d}, Training RMSE={tr:.3f}, Testing RMSE={te:.3f}\".format(\n",
    "          p=ratio, d=degree, tr=rmse_tr, te=rmse_te))\n",
    "\n",
    "seed = 6\n",
    "degrees = [1, 3, 7, 12]\n",
    "split_ratios = [0.9, 0.5, 0.1]\n",
    "\n",
    "for split_ratio in split_ratios:\n",
    "    for degree in degrees:\n",
    "        train_test_split_demo(x, y, degree, split_ratio, seed)"
   ]
  },
  {
   "cell_type": "markdown",
   "metadata": {},
   "source": [
    "# Ridge Regression\n",
    "Please fill in the function below."
   ]
  },
  {
   "cell_type": "code",
   "execution_count": 28,
   "metadata": {
    "collapsed": false
   },
   "outputs": [],
   "source": [
    "def ridge_regression(y, tx, lamb):\n",
    "    \"\"\"implement ridge regression.\"\"\"\n",
    "    M = tx.shape[1]\n",
    "    N = len(y)\n",
    "    big_lamb = lamb*2*N\n",
    "    #w = np.dot(np.dot(np.linalg.inv(np.dot(tx.T,tx) + big_lamb*np.eye(M)), tx.T),y)\n",
    "    w = np.linalg.solve(np.dot(tx.T,tx) + big_lamb*np.eye(M), np.dot(tx.T, y))\n",
    "    return w"
   ]
  },
  {
   "cell_type": "code",
   "execution_count": 48,
   "metadata": {
    "collapsed": false
   },
   "outputs": [
    {
     "data": {
      "image/png": "[encoded data removed]",
      "text/plain": [
       "<matplotlib.figure.Figure at 0x7f89f7593978>"
      ]
     },
     "metadata": {},
     "output_type": "display_data"
    }
   ],
   "source": [
    "def ridge_regression_demo(x, y, degree, ratio, seed):\n",
    "    \"\"\"ridge regression demo.\"\"\"\n",
    "    # define parameter\n",
    "    lambdas = np.logspace(-3, 1, 10) \n",
    "    rmse_tr = []\n",
    "    rmse_te = []\n",
    "    for lamb in lambdas:\n",
    "        # ***************************************************\n",
    "        # INSERT YOUR CODE HERE\n",
    "        # split the data, and return train and test data: TODO\n",
    "        # ***************************************************\n",
    "        x_tr, y_tr, x_te, y_te = split_data(x, y, ratio, seed)\n",
    "\n",
    "        # ***************************************************\n",
    "        # INSERT YOUR CODE HERE\n",
    "        # form train and test data with polynomial basis function: TODO\n",
    "        # ***************************************************\n",
    "        Phi_tr = build_poly(x_tr,degree)\n",
    "        Phi_te = build_poly(x_te,degree)    \n",
    "\n",
    "        # ***************************************************\n",
    "        # INSERT YOUR CODE HERE\n",
    "        # ridge regression with different lambda: TODO\n",
    "        # ***************************************************\n",
    "\n",
    "        weight_tr = ridge_regression(y_tr, Phi_tr, lamb)\n",
    "        mse_tr = compute_loss(y_tr, Phi_tr, weight_tr)\n",
    "        mse_te = compute_loss(y_te, Phi_te, weight_tr)\n",
    "        rmse_tr.append(np.sqrt(2*mse_tr))\n",
    "        rmse_te.append(np.sqrt(2*mse_te))\n",
    "\n",
    "    plot_train_test(rmse_tr, rmse_te, lambdas, degree)\n",
    "seed = 6\n",
    "degree = 7\n",
    "split_ratio = 0.5\n",
    "ridge_regression_demo(x, y, degree, split_ratio, seed)"
   ]
  },
  {
   "cell_type": "code",
   "execution_count": null,
   "metadata": {
    "collapsed": true
   },
   "outputs": [],
   "source": []
  }
 ],
 "metadata": {
  "anaconda-cloud": {},
  "kernelspec": {
   "display_name": "Python [Root]",
   "language": "python",
   "name": "Python [Root]"
  },
  "language_info": {
   "codemirror_mode": {
    "name": "ipython",
    "version": 3
   },
   "file_extension": ".py",
   "mimetype": "text/x-python",
   "name": "python",
   "nbconvert_exporter": "python",
   "pygments_lexer": "ipython3",
   "version": "3.5.2"
  }
 },
 "nbformat": 4,
 "nbformat_minor": 0
}

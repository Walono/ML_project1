{
 "cells": [
  {
   "cell_type": "code",
   "execution_count": 1,
   "metadata": {
    "collapsed": true
   },
   "outputs": [],
   "source": [
    "# Useful starting lines\n",
    "%matplotlib inline\n",
    "import numpy as np\n",
    "import matplotlib.pyplot as plt\n",
    "%load_ext autoreload\n",
    "%autoreload 2"
   ]
  },
  {
   "cell_type": "markdown",
   "metadata": {},
   "source": [
    "# Load the data"
   ]
  },
  {
   "cell_type": "code",
   "execution_count": 2,
   "metadata": {
    "collapsed": true
   },
   "outputs": [],
   "source": [
    "import datetime\n",
    "from helpers import *\n",
    "\n",
    "height, weight, gender = load_data(sub_sample=False, add_outlier=False)\n",
    "x, mean_x, std_x = standardize(height)\n",
    "y, tx = build_model_data(x, weight)"
   ]
  },
  {
   "cell_type": "code",
   "execution_count": 2,
   "metadata": {
    "collapsed": false
   },
   "outputs": [
    {
     "data": {
      "text/plain": [
       "10000"
      ]
     },
     "execution_count": 2,
     "metadata": {},
     "output_type": "execute_result"
    }
   ],
   "source": [
    "y.shape, tx.shape\n",
    "y.shape[0]"
   ]
  },
  {
   "cell_type": "markdown",
   "metadata": {},
   "source": [
    "# Computing the Cost Function\n",
    "Fill in the the `compute_cost` function below:"
   ]
  },
  {
   "cell_type": "code",
   "execution_count": 3,
   "metadata": {
    "collapsed": false
   },
   "outputs": [],
   "source": [
    "def compute_cost(y, tx, w):\n",
    "    \"\"\"calculate the cost.\n",
    "\n",
    "    you can calculate the cost by mse or mae.\n",
    "    \"\"\"\n",
    "    N = y.shape[0]\n",
    "    e = y-np.dot(tx,w)\n",
    "    return 1/(2*N)*np.dot(e.T,e)"
   ]
  },
  {
   "cell_type": "markdown",
   "metadata": {},
   "source": [
    "# Grid Search"
   ]
  },
  {
   "cell_type": "markdown",
   "metadata": {},
   "source": [
    "Fill in the function `grid_search()` below:"
   ]
  },
  {
   "cell_type": "code",
   "execution_count": 4,
   "metadata": {
    "collapsed": true
   },
   "outputs": [],
   "source": [
    "def grid_search(y, tx, w0, w1):\n",
    "    \"\"\"Algorithm for grid search.\"\"\"\n",
    "    loss = np.zeros((len(w0), len(w1)))\n",
    "    for i in range(w0.shape[0]):\n",
    "        for j in range(w1.shape[0]):\n",
    "            w = np.array([w0[i], w1[j]])\n",
    "            loss[i,j] = compute_cost(y, tx, w.T)    \n",
    "    return loss"
   ]
  },
  {
   "cell_type": "markdown",
   "metadata": {},
   "source": [
    "Let us play with the grid search demo now!"
   ]
  },
  {
   "cell_type": "code",
   "execution_count": 5,
   "metadata": {
    "collapsed": false
   },
   "outputs": [
    {
     "ename": "ImportError",
     "evalue": "No module named 'grid_search'",
     "output_type": "error",
     "traceback": [
      "\u001b[1;31m---------------------------------------------------------------------------\u001b[0m",
      "\u001b[1;31mImportError\u001b[0m                               Traceback (most recent call last)",
      "\u001b[1;32m<ipython-input-5-ea5493a56e9f>\u001b[0m in \u001b[0;36m<module>\u001b[1;34m()\u001b[0m\n\u001b[1;32m----> 1\u001b[1;33m \u001b[1;32mfrom\u001b[0m \u001b[0mgrid_search\u001b[0m \u001b[1;32mimport\u001b[0m \u001b[0mgenerate_w\u001b[0m\u001b[1;33m,\u001b[0m \u001b[0mget_best_parameters\u001b[0m\u001b[1;33m\u001b[0m\u001b[0m\n\u001b[0m\u001b[0;32m      2\u001b[0m \u001b[1;32mfrom\u001b[0m \u001b[0mplots\u001b[0m \u001b[1;32mimport\u001b[0m \u001b[0mgrid_visualization\u001b[0m\u001b[1;33m\u001b[0m\u001b[0m\n\u001b[0;32m      3\u001b[0m \u001b[1;32mimport\u001b[0m \u001b[0mdatetime\u001b[0m\u001b[1;33m\u001b[0m\u001b[0m\n\u001b[0;32m      4\u001b[0m \u001b[1;33m\u001b[0m\u001b[0m\n\u001b[0;32m      5\u001b[0m \u001b[1;31m# Generate the grid of parameters to be swept\u001b[0m\u001b[1;33m\u001b[0m\u001b[1;33m\u001b[0m\u001b[0m\n",
      "\u001b[1;31mImportError\u001b[0m: No module named 'grid_search'"
     ]
    }
   ],
   "source": [
    "from grid_search import generate_w, get_best_parameters\n",
    "from plots import grid_visualization\n",
    "import datetime\n",
    "\n",
    "# Generate the grid of parameters to be swept\n",
    "grid_w0, grid_w1 = generate_w(num_intervals=100)\n",
    "\n",
    "# Start the grid search\n",
    "start_time = datetime.datetime.now()\n",
    "grid_losses = grid_search(y, tx, grid_w0, grid_w1)\n",
    "\n",
    "# Select the best combinaison\n",
    "loss_star, w0_star, w1_star = get_best_parameters(grid_w0, grid_w1, grid_losses)\n",
    "end_time = datetime.datetime.now()\n",
    "execution_time = (end_time - start_time).total_seconds()\n",
    "\n",
    "# Print the results\n",
    "print(\"Grid Search: loss*={l}, w0*={w0}, w1*={w1}, execution time={t:.3f} seconds\".format(\n",
    "      l=loss_star, w0=w0_star, w1=w1_star, t=execution_time))\n",
    "\n",
    "# Plot the results\n",
    "fig = grid_visualization(grid_losses, grid_w0, grid_w1, mean_x, std_x, height, weight)\n",
    "fig.set_size_inches(10.0,6.0)\n",
    "fig.savefig(\"grid_plot\")  # Optional saving"
   ]
  },
  {
   "cell_type": "markdown",
   "metadata": {},
   "source": [
    "# Gradient Descent"
   ]
  },
  {
   "cell_type": "markdown",
   "metadata": {},
   "source": [
    "Again, please fill in the functions `compute_gradient` below:"
   ]
  },
  {
   "cell_type": "code",
   "execution_count": 6,
   "metadata": {
    "collapsed": true
   },
   "outputs": [],
   "source": [
    "def compute_gradient(y, tx, w):\n",
    "    \"\"\"Compute the gradient.\"\"\"\n",
    "    N = y.shape[0]\n",
    "    e = y - np.dot(tx, w)\n",
    "    \n",
    "    return -1/N*np.dot(tx.T, e)"
   ]
  },
  {
   "cell_type": "code",
   "execution_count": 7,
   "metadata": {
    "collapsed": false
   },
   "outputs": [
    {
     "data": {
      "text/plain": [
       "array([-23.293922  ,  -3.47971243])"
      ]
     },
     "execution_count": 7,
     "metadata": {},
     "output_type": "execute_result"
    }
   ],
   "source": [
    "w = np.array([50, 10])\n",
    "compute_gradient(y, tx, w.T)"
   ]
  },
  {
   "cell_type": "markdown",
   "metadata": {},
   "source": [
    "Please fill in the functions `gradient_descent` below:"
   ]
  },
  {
   "cell_type": "code",
   "execution_count": 8,
   "metadata": {
    "collapsed": true
   },
   "outputs": [],
   "source": [
    "def gradient_descent(y, tx, initial_w, max_iters, gamma): \n",
    "    \"\"\"Gradient descent algorithm.\"\"\"\n",
    "    # Define parameters to store w and loss\n",
    "    ws = [initial_w]\n",
    "    losses = []\n",
    "    w = initial_w\n",
    "    for n_iter in range(max_iters):\n",
    "        loss = compute_cost(y, tx, w)\n",
    "        gradient = compute_gradient(y, tx, w)\n",
    "\n",
    "        w = w - gamma*gradient\n",
    "\n",
    "        # store w and loss\n",
    "        ws.append(w)\n",
    "        losses.append(loss)\n",
    "        print(\"Gradient Descent({bi}/{ti}): loss={l}, w0={w0}, w1={w1}\".format(\n",
    "              bi=n_iter, ti=max_iters - 1, l=loss, w0=w[0], w1=w[1]))\n",
    "\n",
    "    return losses, ws"
   ]
  },
  {
   "cell_type": "markdown",
   "metadata": {},
   "source": [
    "Test your gradient descent function through gradient descent demo shown below:"
   ]
  },
  {
   "cell_type": "code",
   "execution_count": 9,
   "metadata": {
    "collapsed": false
   },
   "outputs": [
    {
     "ename": "ImportError",
     "evalue": "No module named 'grid_search'",
     "output_type": "error",
     "traceback": [
      "\u001b[1;31m---------------------------------------------------------------------------\u001b[0m",
      "\u001b[1;31mImportError\u001b[0m                               Traceback (most recent call last)",
      "\u001b[1;32m<ipython-input-9-3b2a53f062d1>\u001b[0m in \u001b[0;36m<module>\u001b[1;34m()\u001b[0m\n\u001b[0;32m      1\u001b[0m \u001b[1;31m# from gradient_descent import *\u001b[0m\u001b[1;33m\u001b[0m\u001b[1;33m\u001b[0m\u001b[0m\n\u001b[1;32m----> 2\u001b[1;33m \u001b[1;32mfrom\u001b[0m \u001b[0mplots\u001b[0m \u001b[1;32mimport\u001b[0m \u001b[0mgradient_descent_visualization\u001b[0m\u001b[1;33m\u001b[0m\u001b[0m\n\u001b[0m\u001b[0;32m      3\u001b[0m \u001b[1;33m\u001b[0m\u001b[0m\n\u001b[0;32m      4\u001b[0m \u001b[1;31m# Define the parameters of the algorithm.\u001b[0m\u001b[1;33m\u001b[0m\u001b[1;33m\u001b[0m\u001b[0m\n\u001b[0;32m      5\u001b[0m \u001b[0mmax_iters\u001b[0m \u001b[1;33m=\u001b[0m \u001b[1;36m50\u001b[0m\u001b[1;33m\u001b[0m\u001b[0m\n",
      "\u001b[1;32m/home/huguenin/ML_project1/labs/ex02/template/plots.py\u001b[0m in \u001b[0;36m<module>\u001b[1;34m()\u001b[0m\n\u001b[0;32m      3\u001b[0m \u001b[1;32mimport\u001b[0m \u001b[0mmatplotlib\u001b[0m\u001b[1;33m.\u001b[0m\u001b[0mpyplot\u001b[0m \u001b[1;32mas\u001b[0m \u001b[0mplt\u001b[0m\u001b[1;33m\u001b[0m\u001b[0m\n\u001b[0;32m      4\u001b[0m \u001b[1;32mimport\u001b[0m \u001b[0mnumpy\u001b[0m \u001b[1;32mas\u001b[0m \u001b[0mnp\u001b[0m\u001b[1;33m\u001b[0m\u001b[0m\n\u001b[1;32m----> 5\u001b[1;33m \u001b[1;32mfrom\u001b[0m \u001b[0mgrid_search\u001b[0m \u001b[1;32mimport\u001b[0m \u001b[0mget_best_parameters\u001b[0m\u001b[1;33m\u001b[0m\u001b[0m\n\u001b[0m\u001b[0;32m      6\u001b[0m \u001b[1;33m\u001b[0m\u001b[0m\n\u001b[0;32m      7\u001b[0m \u001b[1;33m\u001b[0m\u001b[0m\n",
      "\u001b[1;31mImportError\u001b[0m: No module named 'grid_search'"
     ]
    }
   ],
   "source": [
    "# from gradient_descent import *\n",
    "from plots import gradient_descent_visualization\n",
    "\n",
    "# Define the parameters of the algorithm.\n",
    "max_iters = 50\n",
    "gamma = 0.4\n",
    "\n",
    "# Initialization\n",
    "w_initial = np.array([0, 0])\n",
    "\n",
    "# Start gradient descent.\n",
    "start_time = datetime.datetime.now()\n",
    "gradient_losses, gradient_ws = gradient_descent(y, tx, w_initial, max_iters, gamma)\n",
    "end_time = datetime.datetime.now()\n",
    "\n",
    "# Print result\n",
    "exection_time = (end_time - start_time).total_seconds()\n",
    "print(\"Gradient Descent: execution time={t:.3f} seconds\".format(t=exection_time))"
   ]
  },
  {
   "cell_type": "code",
   "execution_count": 11,
   "metadata": {
    "collapsed": false
   },
   "outputs": [
    {
     "data": {
      "image/png": "[encoded data removed]",
      "text/plain": [
       "<matplotlib.figure.Figure at 0x7eff2d3afda0>"
      ]
     },
     "metadata": {},
     "output_type": "display_data"
    }
   ],
   "source": [
    "# Time Visualization\n",
    "from ipywidgets import IntSlider, interact\n",
    "def plot_figure(n_iter):\n",
    "    fig = gradient_descent_visualization(\n",
    "        gradient_losses, gradient_ws, grid_losses, grid_w0, grid_w1, mean_x, std_x, height, weight, n_iter)\n",
    "    fig.set_size_inches(10.0, 6.0)\n",
    "\n",
    "interact(plot_figure, n_iter=IntSlider(min=1, max=len(gradient_ws)))"
   ]
  },
  {
   "cell_type": "markdown",
   "metadata": {},
   "source": [
    "# Stochastic gradient descent"
   ]
  },
  {
   "cell_type": "code",
   "execution_count": 11,
   "metadata": {
    "collapsed": false
   },
   "outputs": [],
   "source": [
    "def compute_stoch_gradient(y, tx, w):\n",
    "    \"\"\"Compute a stochastic gradient for batch data.\"\"\"\n",
    "    \"\"\"Compute the gradient.\"\"\"\n",
    "    N = y.shape[0]\n",
    "    e = y - np.dot(tx, w)\n",
    "    \n",
    "    return -1/N*np.dot(tx.T, e)\n",
    "\n",
    "\n",
    "def stochastic_gradient_descent(\n",
    "        y, tx, initial_w, batch_size, max_epochs, gamma):\n",
    "    \"\"\"Stochastic gradient descent algorithm.\"\"\"\n",
    "    # Define parameters to store w and loss\n",
    "    ws = [initial_w]\n",
    "    losses = []\n",
    "    w = initial_w\n",
    "    for n_iter in range(max_epochs):\n",
    "        batch_iterator = batch_iter(y, tx, batch_size)\n",
    "        batch_y, batch_tx = next(batch_iterator)\n",
    "        gradient = compute_stoch_gradient(batch_y, batch_tx, w)\n",
    "\n",
    "        w = w - gamma*gradient\n",
    "        loss = compute_cost(batch_y, batch_tx, w)\n",
    "        print(\"Gradient Descent({bi}/{ti}): loss={l}, w0={w0}, w1={w1}\".format(\n",
    "              bi=n_iter, ti=max_iters - 1, l=loss, w0=w[0], w1=w[1]))\n",
    "        # store w and loss\n",
    "        ws.append(w)\n",
    "        losses.append(loss)\n",
    "    return losses, ws\n",
    "\n",
    "#stochastic_gradient_descent(y, tx, np.array([0, 0]), 32, 20, 0.4)"
   ]
  },
  {
   "cell_type": "code",
   "execution_count": 12,
   "metadata": {
    "collapsed": false
   },
   "outputs": [
    {
     "name": "stdout",
     "output_type": "stream",
     "text": [
      "Gradient Descent(0/49): loss=850.981713374492, w0=28.841258435300656, w1=7.608233672093021\n",
      "Gradient Descent(1/49): loss=335.2842803437488, w0=46.34232697345188, w1=5.111234576283303\n",
      "Gradient Descent(2/49): loss=49.164198835212204, w0=53.956729304910205, w1=1.7254177393888792\n",
      "Gradient Descent(3/49): loss=87.8493370701527, w0=63.93259242910851, w1=5.854016619496904\n",
      "Gradient Descent(4/49): loss=0.2676731867527795, w0=64.5737160304233, w1=5.4700036721186445\n",
      "Gradient Descent(5/49): loss=3.59202626629476, w0=68.39282873921684, w1=8.882046076256797\n",
      "Gradient Descent(6/49): loss=134.3120211632121, w0=75.58368843088374, w1=22.861284875312617\n",
      "Gradient Descent(7/49): loss=5.16944978016797, w0=79.05879980931257, w1=20.226769706063504\n",
      "Gradient Descent(8/49): loss=821.6185244308202, w0=86.2312016112771, w1=1.0457459639603925\n",
      "Gradient Descent(9/49): loss=0.1776037928086186, w0=85.65316635101462, w1=0.6499149287379691\n",
      "Gradient Descent(10/49): loss=116.29184442382177, w0=70.86732817925254, w1=24.174919062866053\n",
      "Gradient Descent(11/49): loss=1.3214897684789202, w0=79.45150172777592, w1=14.347582005712672\n",
      "Gradient Descent(12/49): loss=7.395487831594844, w0=76.34550732003372, w1=15.936747304720221\n",
      "Gradient Descent(13/49): loss=0.00011962253436042284, w0=76.26820463501525, w1=16.0375403636409\n",
      "Gradient Descent(14/49): loss=17.978633641554353, w0=73.53004013047448, w1=10.777735172814296\n",
      "Gradient Descent(15/49): loss=4.374009027637583, w0=75.82879865099002, w1=9.715950425799663\n",
      "Gradient Descent(16/49): loss=0.011955314503862401, w0=74.36502810443214, w1=11.444415806005644\n",
      "Gradient Descent(17/49): loss=3.355242359904224, w0=72.51783351316605, w1=12.021570444791292\n",
      "Gradient Descent(18/49): loss=0.18322827757545643, w0=73.49453752011732, w1=11.10523431337583\n",
      "Gradient Descent(19/49): loss=0.00788574128464942, w0=73.14210173637353, w1=11.482137455389424\n",
      "Gradient Descent(20/49): loss=28.925339164775874, w0=78.37864530318683, w1=10.340592715503252\n",
      "Gradient Descent(21/49): loss=0.22495058031457377, w0=79.36034868347434, w1=11.227800678300168\n",
      "Gradient Descent(22/49): loss=3.256167931555756, w0=76.00757538536058, w1=8.345857313940828\n",
      "Gradient Descent(23/49): loss=4.690555307492199, w0=78.62037107491616, w1=9.841659738547326\n",
      "Gradient Descent(24/49): loss=0.5426199407916216, w0=79.75916413133619, w1=11.61129539764054\n",
      "Gradient Descent(25/49): loss=0.04208975834417857, w0=79.50333661246673, w1=11.45654872221104\n",
      "Gradient Descent(26/49): loss=5.808622480902145, w0=74.54157954495248, w1=15.930568995871887\n",
      "Gradient Descent(27/49): loss=0.07171258522205773, w0=75.0743174102781, w1=16.722699259305248\n",
      "Gradient Descent(28/49): loss=92.39853561075994, w0=68.18165204855016, w1=3.8789378848673977\n",
      "Gradient Descent(29/49): loss=19.525043889944726, w0=74.0797202019157, w1=7.793493168550335\n",
      "Gradient Descent(30/49): loss=0.8491899916303994, w0=70.08063093403058, w1=12.126780950664969\n",
      "Gradient Descent(31/49): loss=4.018305582788172, w0=72.10697853096299, w1=12.770714809649544\n",
      "Gradient Descent(32/49): loss=3.196733139281577, w0=73.79353969002776, w1=12.81774197641199\n",
      "Gradient Descent(33/49): loss=0.9853694696083283, w0=75.91971007458082, w1=14.766105079269003\n",
      "Gradient Descent(34/49): loss=6.92911817816397, w0=72.91872033005903, w1=19.734061331501604\n",
      "Gradient Descent(35/49): loss=5.298340411173001, w0=75.6486011628446, w1=18.22015327239698\n",
      "Gradient Descent(36/49): loss=0.25147951607550784, w0=76.30216615797747, w1=17.79918404107837\n",
      "Gradient Descent(37/49): loss=4.079886931720841, w0=73.9689884034687, w1=19.024247804845192\n",
      "Gradient Descent(38/49): loss=3.0961509319349703, w0=72.30984594115843, w1=19.045804417251812\n",
      "Gradient Descent(39/49): loss=0.06869988628497334, w0=71.13402456567839, w1=17.765965926451926\n",
      "Gradient Descent(40/49): loss=5.203914846778503, w0=74.14048776933312, w1=15.801524529442725\n",
      "Gradient Descent(41/49): loss=3.5831005697908154, w0=72.27036708301918, w1=16.29117609524981\n",
      "Gradient Descent(42/49): loss=6.080846046868095e-06, w0=72.14734076115886, w1=16.141930738489442\n",
      "Gradient Descent(43/49): loss=0.22534427777518923, w0=73.06990657642174, w1=16.952697206046636\n",
      "Gradient Descent(44/49): loss=2.654140271744844, w0=75.06775335661737, w1=18.129178137937682\n",
      "Gradient Descent(45/49): loss=4.1727482526862865, w0=79.34684291432568, w1=11.818267722266562\n",
      "Gradient Descent(46/49): loss=14.977961985790753, w0=76.60625153370859, w1=6.693224517312313\n",
      "Gradient Descent(47/49): loss=5.698982369196625, w0=79.10731439431291, w1=5.724118302744742\n",
      "Gradient Descent(48/49): loss=3.7912377675155557, w0=82.50509024483361, w1=10.888761270163316\n",
      "Gradient Descent(49/49): loss=0.1524909858221856, w0=80.67139439196438, w1=8.427801614753086\n",
      "SGD: execution time=0.101 seconds\n"
     ]
    }
   ],
   "source": [
    "# from stochastic_gradient_descent import *\n",
    "\n",
    "# Define the parameters of the algorithm.\n",
    "max_iters = 50\n",
    "gamma = 0.4\n",
    "batch_size = 1\n",
    "\n",
    "# Initialization\n",
    "w_initial = np.array([0, 0])\n",
    "\n",
    "# Start SGD.\n",
    "start_time = datetime.datetime.now()\n",
    "gradient_losses, gradient_ws = stochastic_gradient_descent(\n",
    "    y, tx, w_initial, batch_size, max_iters, gamma)\n",
    "end_time = datetime.datetime.now()\n",
    "\n",
    "# Print result\n",
    "exection_time = (end_time - start_time).total_seconds()\n",
    "print(\"SGD: execution time={t:.3f} seconds\".format(t=exection_time))"
   ]
  },
  {
   "cell_type": "code",
   "execution_count": 33,
   "metadata": {
    "collapsed": false
   },
   "outputs": [
    {
     "data": {
      "image/png": "[encoded data removed]",
      "text/plain": [
       "<matplotlib.figure.Figure at 0x7eff2d14f4a8>"
      ]
     },
     "metadata": {},
     "output_type": "display_data"
    }
   ],
   "source": [
    "# Time Visualization\n",
    "from ipywidgets import IntSlider, interact\n",
    "def plot_figure(n_iter):\n",
    "    fig = gradient_descent_visualization(\n",
    "        gradient_losses, gradient_ws, grid_losses, grid_w0, grid_w1, mean_x, std_x, height, weight, n_iter)\n",
    "    fig.set_size_inches(10.0, 6.0)\n",
    "\n",
    "interact(plot_figure, n_iter=IntSlider(min=1, max=len(gradient_ws)))"
   ]
  },
  {
   "cell_type": "code",
   "execution_count": null,
   "metadata": {
    "collapsed": true
   },
   "outputs": [],
   "source": []
  }
 ],
 "metadata": {
  "anaconda-cloud": {},
  "kernelspec": {
   "display_name": "Python [Root]",
   "language": "python",
   "name": "Python [Root]"
  },
  "language_info": {
   "codemirror_mode": {
    "name": "ipython",
    "version": 3
   },
   "file_extension": ".py",
   "mimetype": "text/x-python",
   "name": "python",
   "nbconvert_exporter": "python",
   "pygments_lexer": "ipython3",
   "version": "3.5.2"
  }
 },
 "nbformat": 4,
 "nbformat_minor": 0
}

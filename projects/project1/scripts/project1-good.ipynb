{
 "cells": [
  {
   "cell_type": "code",
   "execution_count": 3,
   "metadata": {
    "collapsed": false
   },
   "outputs": [
    {
     "name": "stdout",
     "output_type": "stream",
     "text": [
      "The autoreload extension is already loaded. To reload it, use:\n",
      "  %reload_ext autoreload\n"
     ]
    }
   ],
   "source": [
    "# Useful starting lines\n",
    "%matplotlib inline\n",
    "import numpy as np\n",
    "import matplotlib.pyplot as plt\n",
    "from Methods.costs import * \n",
    "from Methods.least_squares import * \n",
    "from Methods.ridge import *\n",
    "from Methods.cross_validation import *\n",
    "from Methods.split_data import *\n",
    "from Methods.scaling_standardization import *\n",
    "from Methods.build_polynomial import *\n",
    "from Methods.clearDataset import *\n",
    "from Methods.logistic import *\n",
    "\n",
    "%load_ext autoreload\n",
    "%autoreload 2"
   ]
  },
  {
   "cell_type": "markdown",
   "metadata": {},
   "source": [
    "## Load the training data into feature matrix, class labels, and event ids:"
   ]
  },
  {
   "cell_type": "code",
   "execution_count": 4,
   "metadata": {
    "collapsed": false
   },
   "outputs": [],
   "source": [
    "from Methods.proj1_helpers import *\n",
    "DATA_TRAIN_PATH = 'csv/train.csv'\n",
    "y, tX, ids = load_csv_data(DATA_TRAIN_PATH)"
   ]
  },
  {
   "cell_type": "markdown",
   "metadata": {},
   "source": [
    "## Generate predictions and save ouput in csv format for submission:"
   ]
  },
  {
   "cell_type": "code",
   "execution_count": 5,
   "metadata": {
    "collapsed": false
   },
   "outputs": [],
   "source": [
    "DATA_TEST_PATH = 'csv/test.csv' # TODO: download train data and supply path here \n",
    "_, tX_test, ids_test = load_csv_data(DATA_TEST_PATH)"
   ]
  },
  {
   "cell_type": "markdown",
   "metadata": {},
   "source": [
    "# Feature Processing"
   ]
  },
  {
   "cell_type": "code",
   "execution_count": 7,
   "metadata": {
    "collapsed": false
   },
   "outputs": [],
   "source": [
    "tX, tX_test = averageData(tX, tX_test)"
   ]
  },
  {
   "cell_type": "code",
   "execution_count": null,
   "metadata": {
    "collapsed": false
   },
   "outputs": [],
   "source": [
    "boxplot(tX.T, -1000, 2000, 'boxplot_mean')"
   ]
  },
  {
   "cell_type": "code",
   "execution_count": null,
   "metadata": {
    "collapsed": true
   },
   "outputs": [],
   "source": [
    "tX, tX_test = data_scaling(tX.T, tX_test.T)"
   ]
  },
  {
   "cell_type": "markdown",
   "metadata": {},
   "source": [
    "# Features transformations"
   ]
  },
  {
   "cell_type": "code",
   "execution_count": 8,
   "metadata": {
    "collapsed": false
   },
   "outputs": [
    {
     "name": "stderr",
     "output_type": "stream",
     "text": [
      "/home/huguenin/ML_project1/projects/project1/scripts/Methods/build_polynomial.py:38: RuntimeWarning: divide by zero encountered in log\n",
      "  new = np.array([np.log(x)])\n",
      "/home/huguenin/ML_project1/projects/project1/scripts/Methods/build_polynomial.py:38: RuntimeWarning: invalid value encountered in log\n",
      "  new = np.array([np.log(x)])\n",
      "/home/huguenin/anaconda3/lib/python3.5/site-packages/numpy/lib/function_base.py:964: RuntimeWarning: invalid value encountered in multiply\n",
      "  scl = np.multiply(avg, 0) + scl\n",
      "/home/huguenin/anaconda3/lib/python3.5/site-packages/numpy/lib/function_base.py:2490: RuntimeWarning: invalid value encountered in subtract\n",
      "  X -= avg[:, None]\n",
      "/home/huguenin/ML_project1/projects/project1/scripts/Methods/build_polynomial.py:25: RuntimeWarning: invalid value encountered in sqrt\n",
      "  new = np.array([np.sqrt(x)])\n"
     ]
    }
   ],
   "source": [
    "#y, x, tX, method,  tX_test, x_test, **kwargs\n",
    "for i in range(0, 30): \n",
    "    tX, tX_test = add_feature(y, tX[i], tX, log_def, tX_test, tX_test[i])\n",
    "    tX, tX_test = add_feature(y, tX[i], tX, multiply, tX_test, tX_test[i], degree=2)\n",
    "    tX, tX_test = add_feature(y, tX[i], tX, multiply, tX_test, tX_test[i], degree=3)\n",
    "    tX, tX_test = add_feature(y, tX[i], tX, sqrt_def, tX_test, tX_test[i])\n",
    "    #tX, tX_test = add_feature(y, tX[i], tX, multiply, tX_test, tX_test[i], degree=4)\n",
    "    #tX, tX_test = add_feature(y, tX[i], tX, multiply, tX_test, tX_test[i], degree=5)\n",
    "    #tX, tX_test = add_feature(y, tX[i], tX, multiply, tX_test, tX_test[i], degree=6)\n",
    "    #tX, tX_test = add_feature(y, tX[i], tX, multiply, tX_test, tX_test[i], degree=7)\n",
    "    #tX, tX_test = add_feature(y, tX[i], tX, multiply, tX_test, tX_test[i], degree=8)   \n",
    "\n",
    "tX = tX.T"
   ]
  },
  {
   "cell_type": "markdown",
   "metadata": {},
   "source": [
    "# Models testing"
   ]
  },
  {
   "cell_type": "code",
   "execution_count": 11,
   "metadata": {
    "collapsed": false
   },
   "outputs": [
    {
     "name": "stdout",
     "output_type": "stream",
     "text": [
      "0.8072\n",
      "1\n",
      "[0.88436191686435706]\n"
     ]
    }
   ],
   "source": [
    "\n",
    "seed = 1\n",
    "k_fold = 10\n",
    "\n",
    "# split data in k fold\n",
    "k_indices = build_k_indices(y, k_fold, seed)\n",
    "\n",
    "# define lists to store the loss of training data and test data\n",
    "rmse_tr = []\n",
    "rmse_te = []\n",
    "k_list = list(range(k_fold))\n",
    "#k=7\n",
    "tot_loss_tr = 0\n",
    "tot_loss_te = 0\n",
    "best_accuracy = 0\n",
    "best_k = 0\n",
    "weights = np.array([])\n",
    "for k in k_list:\n",
    "    loss_tr, loss_te, accuracy_least, w = cross_validation(y, tX, k_indices, k, least_squares)\n",
    "    tot_loss_tr += loss_tr\n",
    "    tot_loss_te += loss_te\n",
    "    if accuracy_least > best_accuracy:\n",
    "        best_accuracy = accuracy_least\n",
    "        best_k = k\n",
    "        weights = w\n",
    "rmse_tr.append(np.sqrt(2/k_fold * tot_loss_tr))\n",
    "rmse_te.append(np.sqrt(2/k_fold * tot_loss_te))\n",
    "print(best_accuracy)\n",
    "print(best_k)\n",
    "print(rmse_te)\n"
   ]
  },
  {
   "cell_type": "markdown",
   "metadata": {},
   "source": [
    "## Ridge regression"
   ]
  },
  {
   "cell_type": "code",
   "execution_count": 8,
   "metadata": {
    "collapsed": false
   },
   "outputs": [
    {
     "name": "stdout",
     "output_type": "stream",
     "text": [
      "0.794448\n",
      "2\n",
      "1e-10\n",
      "0.907908952851\n"
     ]
    },
    {
     "data": {
      "image/png": "[encoded data removed]",
      "text/plain": [
       "<matplotlib.figure.Figure at 0x7f112bd40898>"
      ]
     },
     "metadata": {},
     "output_type": "display_data"
    }
   ],
   "source": [
    "seed = 1\n",
    "k_fold = 4\n",
    "\n",
    "# split data in k fold\n",
    "k_indices = build_k_indices(y, k_fold, seed)\n",
    "\n",
    "# define lists to store the loss of training data and test data\n",
    "rmse_tr = []\n",
    "rmse_te = []\n",
    "k_list = list(range(k_fold))\n",
    "#k=7\n",
    "lambdas = np.logspace(-10, -2, 20)\n",
    "tot_loss_tr = 0\n",
    "tot_loss_te = 0\n",
    "best_accuracy = 0\n",
    "best_k = 0\n",
    "best_l = 0\n",
    "weights = np.array([])\n",
    "for l in lambdas:\n",
    "    for k in k_list:\n",
    "        loss_tr, loss_te, accuracy_least, w = cross_validation(y, tX, k_indices, k, ridge_regression, lambda_=l)\n",
    "        tot_loss_tr += loss_tr\n",
    "        tot_loss_te += loss_te\n",
    "        if accuracy_least > best_accuracy:\n",
    "            best_accuracy = accuracy_least\n",
    "            best_k = k\n",
    "            weights = w\n",
    "            best_l = l\n",
    "    rmse_tr.append(np.sqrt(2/k_fold * tot_loss_tr))\n",
    "    rmse_te.append(np.sqrt(2/k_fold * tot_loss_te))\n",
    "    \n",
    "cross_validation_visualization(lambdas, rmse_tr, rmse_te)\n",
    "print(best_accuracy)\n",
    "print(best_k)\n",
    "print(best_l)\n",
    "print(np.min(rmse_tr))"
   ]
  },
  {
   "cell_type": "markdown",
   "metadata": {},
   "source": [
    "## Logistic regression"
   ]
  },
  {
   "cell_type": "code",
   "execution_count": 20,
   "metadata": {
    "collapsed": false
   },
   "outputs": [
    {
     "name": "stdout",
     "output_type": "stream",
     "text": [
      "Current iteration=0, the loss=0.6931471805599078\n",
      "Current iteration=10, the loss=0.6723248424993514\n",
      "Current iteration=20, the loss=0.6654559375322797\n",
      "Current iteration=30, the loss=0.6372048468308211\n",
      "Current iteration=40, the loss=0.6345797133966027\n",
      "Current iteration=50, the loss=0.6111565662809639\n",
      "Current iteration=60, the loss=0.5929277661176704\n",
      "Current iteration=70, the loss=0.5839925544016811\n",
      "Current iteration=80, the loss=0.57055684966386\n",
      "Current iteration=90, the loss=0.5625117118518622\n",
      "Current iteration=100, the loss=0.5483011136281181\n",
      "Current iteration=110, the loss=0.5423213803761209\n",
      "Current iteration=120, the loss=0.5322094800134617\n",
      "Current iteration=130, the loss=0.5251348872942521\n",
      "Current iteration=140, the loss=0.5183054026205871\n",
      "Current iteration=150, the loss=0.5168654388271088\n",
      "Current iteration=160, the loss=0.5031282525053772\n",
      "Current iteration=170, the loss=0.4952186368243647\n",
      "Current iteration=180, the loss=0.4836585513775422\n",
      "Current iteration=190, the loss=0.49291995105485253\n",
      "Current iteration=200, the loss=0.49374639561734657\n",
      "Current iteration=210, the loss=0.4733966364493936\n",
      "Current iteration=220, the loss=0.46946824227656264\n",
      "Current iteration=230, the loss=0.47918355074075325\n",
      "Current iteration=240, the loss=0.46423613730291347\n",
      "Current iteration=250, the loss=0.46247449973502336\n",
      "Current iteration=260, the loss=0.45810471582876205\n",
      "Current iteration=270, the loss=0.4471592901860698\n",
      "Current iteration=280, the loss=0.44978267464442\n",
      "Current iteration=290, the loss=0.43931929912722756\n",
      "Current iteration=300, the loss=0.4400547267779072\n",
      "Current iteration=310, the loss=0.43758343863849736\n",
      "Current iteration=320, the loss=0.4550169600026051\n",
      "Current iteration=330, the loss=0.4399440122066609\n",
      "Current iteration=340, the loss=0.4382586035214138\n",
      "Current iteration=350, the loss=0.4289630620234629\n",
      "Current iteration=360, the loss=0.4209050148345616\n",
      "Current iteration=370, the loss=0.42796952091272106\n",
      "Current iteration=380, the loss=0.4288984811456762\n",
      "Current iteration=390, the loss=0.4280559509316297\n",
      "Current iteration=400, the loss=0.4247227887323558\n",
      "Current iteration=410, the loss=0.4361207492133911\n",
      "Current iteration=420, the loss=0.4221181003280757\n",
      "Current iteration=430, the loss=0.42066655186459434\n",
      "Current iteration=440, the loss=0.4194895632125487\n",
      "Current iteration=450, the loss=0.4309946731468699\n",
      "Current iteration=460, the loss=0.42636303409450466\n",
      "Current iteration=470, the loss=0.44083782058498383\n",
      "Current iteration=480, the loss=0.44005244361517226\n",
      "Current iteration=490, the loss=0.4158436520135687\n"
     ]
    },
    {
     "name": "stderr",
     "output_type": "stream",
     "text": [
      "/home/huguenin/ML_project1/projects/project1/scripts/Methods/logistic.py:8: RuntimeWarning: overflow encountered in exp\n",
      "  sig = 1 / (1 + np.exp(-t))\n"
     ]
    },
    {
     "name": "stdout",
     "output_type": "stream",
     "text": [
      "Current iteration=500, the loss=0.4120330370288551\n",
      "Current iteration=510, the loss=0.41696250401580937\n",
      "Current iteration=520, the loss=0.4132120374772826\n",
      "Current iteration=530, the loss=0.41564767191006746\n",
      "Current iteration=540, the loss=0.41846444541280275\n",
      "Current iteration=550, the loss=0.4146884351021209\n",
      "Current iteration=560, the loss=0.4188197729749331\n",
      "Current iteration=570, the loss=0.41935061758640224\n",
      "Current iteration=580, the loss=0.41132690491411683\n",
      "Current iteration=590, the loss=0.41355940095438404\n",
      "Current iteration=600, the loss=0.411977783477169\n",
      "Current iteration=610, the loss=0.4131298330525655\n",
      "Current iteration=620, the loss=0.4077640803759758\n",
      "Current iteration=630, the loss=0.4172416823593676\n",
      "Current iteration=640, the loss=0.3916309019607269\n",
      "Current iteration=650, the loss=0.4107203022312534\n",
      "Current iteration=660, the loss=0.4161810842997675\n",
      "Current iteration=670, the loss=0.41905723750343477\n",
      "Current iteration=680, the loss=0.42531431022273214\n",
      "Current iteration=690, the loss=0.5182887467873756\n",
      "Current iteration=700, the loss=0.4177855549628588\n",
      "Current iteration=710, the loss=0.4127985982392621\n",
      "Current iteration=720, the loss=0.4109551046783726\n",
      "Current iteration=730, the loss=0.4091261255592276\n",
      "Current iteration=740, the loss=0.4112643483523112\n",
      "The scaled loss=0.4142523351968968\n"
     ]
    }
   ],
   "source": [
    "# Logistic regression on half of train data\n",
    "y_binary = np.copy(y)\n",
    "y_binary[y_binary == -1] = 0\n",
    "X_log_tr, y_bin_tr, X_log_te, y_bin_te = split_data(tX, y_binary, 0.7) \n",
    "#w_log = logistic_regression_gradient_descent_demo(y_binary[:125000], tX[:125000], 0.0001, 750)\n",
    "w_log = logistic_regression_gradient_descent(y_bin_tr, X_log_tr, 0.005, 750)"
   ]
  },
  {
   "cell_type": "code",
   "execution_count": 21,
   "metadata": {
    "collapsed": false
   },
   "outputs": [
    {
     "name": "stdout",
     "output_type": "stream",
     "text": [
      "RMSE:  0.858619046299\n"
     ]
    },
    {
     "name": "stderr",
     "output_type": "stream",
     "text": [
      "/home/huguenin/ML_project1/projects/project1/scripts/Methods/logistic.py:8: RuntimeWarning: overflow encountered in exp\n",
      "  sig = 1 / (1 + np.exp(-t))\n"
     ]
    }
   ],
   "source": [
    "vect = sigmoid(np.dot(X_log_te, w_log))\n",
    "vect[vect >= 0.5] = 1\n",
    "vect[vect < 0.5] = -1\n",
    "y_bin_te[y_bin_te == 0] = -1\n",
    "e_log = y_bin_te - vect[:,0]\n",
    "rmse_log = np.sqrt(2*calculate_mse(e_log))\n",
    "tot = 0\n",
    "print(\"RMSE: \", rmse_log)"
   ]
  },
  {
   "cell_type": "code",
   "execution_count": 16,
   "metadata": {
    "collapsed": false
   },
   "outputs": [
    {
     "name": "stderr",
     "output_type": "stream",
     "text": [
      "/home/huguenin/ML_project1/projects/project1/scripts/Methods/logistic.py:8: RuntimeWarning: overflow encountered in exp\n",
      "  sig = 1 / (1 + np.exp(-t))\n"
     ]
    }
   ],
   "source": [
    "# Prepare output if logistic regression\n",
    "pred_log = sigmoid(np.dot(tX_test.T, w_log))\n",
    "pred_log = pred_log[:,0]\n",
    "pred_log[pred_log >= 0.5] = 1\n",
    "pred_log[pred_log < 0.5] = -1"
   ]
  },
  {
   "cell_type": "markdown",
   "metadata": {},
   "source": [
    "## Penalized logistic regression"
   ]
  },
  {
   "cell_type": "code",
   "execution_count": 25,
   "metadata": {
    "collapsed": false
   },
   "outputs": [
    {
     "name": "stdout",
     "output_type": "stream",
     "text": [
      "Current iteration=0, the loss=[[ 0.69314718]]\n",
      "Current iteration=10, the loss=[[ 0.67295411]]\n",
      "Current iteration=20, the loss=[[ 0.65523154]]\n",
      "Current iteration=30, the loss=[[ 0.63744445]]\n",
      "Current iteration=40, the loss=[[ 0.63265065]]\n",
      "Current iteration=50, the loss=[[ 0.61098363]]\n",
      "Current iteration=60, the loss=[[ 0.59374678]]\n",
      "Current iteration=70, the loss=[[ 0.58235502]]\n",
      "Current iteration=80, the loss=[[ 0.57198742]]\n",
      "Current iteration=90, the loss=[[ 0.56067195]]\n",
      "Current iteration=100, the loss=[[ 0.54847404]]\n",
      "Current iteration=110, the loss=[[ 0.54105824]]\n",
      "Current iteration=120, the loss=[[ 0.53304697]]\n",
      "Current iteration=130, the loss=[[ 0.52897402]]\n"
     ]
    },
    {
     "name": "stderr",
     "output_type": "stream",
     "text": [
      "/home/huguenin/ML_project1/projects/project1/scripts/Methods/logistic.py:8: RuntimeWarning: overflow encountered in exp\n",
      "  sig = 1 / (1 + np.exp(-t))\n"
     ]
    },
    {
     "name": "stdout",
     "output_type": "stream",
     "text": [
      "Current iteration=140, the loss=[[ 0.5205458]]\n",
      "Current iteration=150, the loss=[[ 0.52119361]]\n",
      "Current iteration=160, the loss=[[ 0.50715631]]\n",
      "Current iteration=170, the loss=[[ 0.49979092]]\n",
      "Current iteration=180, the loss=[[ 0.4884175]]\n",
      "Current iteration=190, the loss=[[ 0.49697983]]\n",
      "Current iteration=200, the loss=[[ 0.49690944]]\n",
      "Current iteration=210, the loss=[[ 0.47781862]]\n",
      "Current iteration=220, the loss=[[ 0.47303368]]\n",
      "Current iteration=230, the loss=[[ 0.48230667]]\n",
      "Current iteration=240, the loss=[[ 0.46985791]]\n",
      "Current iteration=250, the loss=[[ 0.46543297]]\n",
      "Current iteration=260, the loss=[[ 0.46142816]]\n",
      "Current iteration=270, the loss=[[ 0.45243041]]\n",
      "Current iteration=280, the loss=[[ 0.45527545]]\n",
      "Current iteration=290, the loss=[[ 0.4436634]]\n",
      "Current iteration=300, the loss=[[ 0.44499183]]\n",
      "Current iteration=310, the loss=[[ 0.44344566]]\n",
      "Current iteration=320, the loss=[[ 0.46020749]]\n",
      "Current iteration=330, the loss=[[ 0.4416031]]\n",
      "Current iteration=340, the loss=[[ 0.44234752]]\n",
      "Current iteration=350, the loss=[[ 0.43363525]]\n",
      "Current iteration=360, the loss=[[ 0.42451642]]\n",
      "Current iteration=370, the loss=[[ 0.43678647]]\n",
      "Current iteration=380, the loss=[[ 0.43337827]]\n",
      "Current iteration=390, the loss=[[ 0.43084479]]\n",
      "Current iteration=400, the loss=[[ 0.42802923]]\n",
      "Current iteration=410, the loss=[[ 0.43802123]]\n",
      "Current iteration=420, the loss=[[ 0.4244974]]\n",
      "Current iteration=430, the loss=[[ 0.42311629]]\n",
      "Current iteration=440, the loss=[[ 0.41973169]]\n",
      "Current iteration=450, the loss=[[ 0.43238612]]\n",
      "Current iteration=460, the loss=[[ 0.42883698]]\n",
      "Current iteration=470, the loss=[[ 0.44167242]]\n",
      "Current iteration=480, the loss=[[ 0.44388652]]\n",
      "Current iteration=490, the loss=[[ 0.42019864]]\n",
      "Current iteration=500, the loss=[[ 0.41627185]]\n",
      "Current iteration=510, the loss=[[ 0.42153186]]\n",
      "Current iteration=520, the loss=[[ 0.41309173]]\n",
      "Current iteration=530, the loss=[[ 0.41762486]]\n",
      "Current iteration=540, the loss=[[ 0.4223505]]\n",
      "Current iteration=550, the loss=[[ 0.41844755]]\n",
      "Current iteration=560, the loss=[[ 0.42323441]]\n",
      "Current iteration=570, the loss=[[ 0.42576897]]\n",
      "Current iteration=580, the loss=[[ 0.41617681]]\n",
      "Current iteration=590, the loss=[[ 0.4151239]]\n",
      "Current iteration=600, the loss=[[ 0.41543403]]\n",
      "Current iteration=610, the loss=[[ 0.42516728]]\n",
      "Current iteration=620, the loss=[[ 0.40983472]]\n",
      "Current iteration=630, the loss=[[ 0.42083676]]\n",
      "Current iteration=640, the loss=[[ 0.39345614]]\n",
      "Current iteration=650, the loss=[[ 0.4167358]]\n",
      "Current iteration=660, the loss=[[ 0.42044895]]\n",
      "Current iteration=670, the loss=[[ 0.41272519]]\n",
      "Current iteration=680, the loss=[[ 0.43127017]]\n",
      "Current iteration=690, the loss=[[ 0.48163232]]\n",
      "Current iteration=700, the loss=[[ 0.42385782]]\n",
      "Current iteration=710, the loss=[[ 0.41944781]]\n",
      "Current iteration=720, the loss=[[ 0.41620486]]\n",
      "Current iteration=730, the loss=[[ 0.40954283]]\n",
      "Current iteration=740, the loss=[[ 0.41237969]]\n",
      "Current iteration=750, the loss=[[ 0.4116259]]\n",
      "Current iteration=760, the loss=[[ 0.40685461]]\n",
      "Current iteration=770, the loss=[[ 0.40525193]]\n",
      "Current iteration=780, the loss=[[ 0.39944825]]\n",
      "Current iteration=790, the loss=[[ 0.41418102]]\n",
      "Current iteration=800, the loss=[[ 0.39918282]]\n",
      "Current iteration=810, the loss=[[ 0.41546045]]\n",
      "Current iteration=820, the loss=[[ 0.4946142]]\n",
      "Current iteration=830, the loss=[[ 0.4231306]]\n"
     ]
    },
    {
     "name": "stderr",
     "output_type": "stream",
     "text": [
      "/home/huguenin/ML_project1/projects/project1/scripts/Methods/logistic.py:17: RuntimeWarning: overflow encountered in exp\n",
      "  l = np.log(1 + np.exp(np.dot(tx[n], w)))\n"
     ]
    },
    {
     "name": "stdout",
     "output_type": "stream",
     "text": [
      "Current iteration=840, the loss=[[ inf]]\n",
      "Current iteration=850, the loss=[[ 0.41119495]]\n",
      "Current iteration=860, the loss=[[ 0.40145252]]\n",
      "Current iteration=870, the loss=[[ 0.40737838]]\n",
      "Current iteration=880, the loss=[[ 0.44047662]]\n",
      "Current iteration=890, the loss=[[ 0.41915533]]\n",
      "The loss=0.4154495894015615\n"
     ]
    }
   ],
   "source": [
    "# Logistic regression on 70% of train data\n",
    "y_binary = np.copy(y)\n",
    "y_binary[y_binary == -1] = 0\n",
    "X_log_tr, y_bin_tr, X_log_te, y_bin_te = split_data(tX, y_binary, 0.7) \n",
    "#w_log = logistic_regression_gradient_descent_demo(y_binary[:125000], tX[:125000], 0.0001, 750)\n",
    "w_log_pen = logistic_regression_penalized_gradient_descent(y_bin_tr, X_log_tr, 0.005, 900, 10**(-12))"
   ]
  },
  {
   "cell_type": "code",
   "execution_count": 26,
   "metadata": {
    "collapsed": false
   },
   "outputs": [
    {
     "name": "stdout",
     "output_type": "stream",
     "text": [
      "RMSE:  0.85880537182\n"
     ]
    },
    {
     "name": "stderr",
     "output_type": "stream",
     "text": [
      "/home/huguenin/ML_project1/projects/project1/scripts/Methods/logistic.py:8: RuntimeWarning: overflow encountered in exp\n",
      "  sig = 1 / (1 + np.exp(-t))\n"
     ]
    }
   ],
   "source": [
    "vect = sigmoid(np.dot(X_log_te, w_log_pen))\n",
    "vect[vect >= 0.5] = 1\n",
    "vect[vect < 0.5] = -1\n",
    "y_bin_te[y_bin_te == 0] = -1\n",
    "e_log = y_bin_te - vect[:,0]\n",
    "rmse_log = np.sqrt(2*calculate_mse(e_log))\n",
    "tot = 0\n",
    "print(\"RMSE: \", rmse_log)"
   ]
  },
  {
   "cell_type": "markdown",
   "metadata": {},
   "source": [
    "# Create submission"
   ]
  },
  {
   "cell_type": "code",
   "execution_count": 50,
   "metadata": {
    "collapsed": false,
    "scrolled": true
   },
   "outputs": [],
   "source": [
    "OUTPUT_PATH = 'csv/sample-submission.csv' # TODO: fill in desired name of output file for submission\n",
    "y_pred = predict_labels(weights, tX_test.T)\n",
    "create_csv_submission(ids_test, y_pred, OUTPUT_PATH)"
   ]
  },
  {
   "cell_type": "code",
   "execution_count": 17,
   "metadata": {
    "collapsed": false
   },
   "outputs": [],
   "source": [
    "OUTPUT_PATH = 'csv/sample-submission.csv'\n",
    "create_csv_submission(ids_test, pred_log, OUTPUT_PATH)"
   ]
  }
 ],
 "metadata": {
  "anaconda-cloud": {},
  "kernelspec": {
   "display_name": "Python [Root]",
   "language": "python",
   "name": "Python [Root]"
  },
  "language_info": {
   "codemirror_mode": {
    "name": "ipython",
    "version": 3
   },
   "file_extension": ".py",
   "mimetype": "text/x-python",
   "name": "python",
   "nbconvert_exporter": "python",
   "pygments_lexer": "ipython3",
   "version": "3.5.2"
  }
 },
 "nbformat": 4,
 "nbformat_minor": 0
}

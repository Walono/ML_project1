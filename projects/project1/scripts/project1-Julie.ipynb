{
 "cells": [
  {
   "cell_type": "code",
   "execution_count": 1,
   "metadata": {
    "collapsed": false
   },
   "outputs": [],
   "source": [
    "# Useful starting lines\n",
    "%matplotlib inline\n",
    "import numpy as np\n",
    "import matplotlib.pyplot as plt\n",
    "from Methods.costs import * \n",
    "from Methods.least_squares import * \n",
    "from Methods.ridge import *\n",
    "from Methods.cross_validation import *\n",
    "from Methods.split_data import *\n",
    "from Methods.scaling_standardization import *\n",
    "from Methods.build_polynomial import *\n",
    "from Methods.clearDataset import *\n",
    "\n",
    "%load_ext autoreload\n",
    "%autoreload 2"
   ]
  },
  {
   "cell_type": "markdown",
   "metadata": {},
   "source": [
    "## Load the training data into feature matrix, class labels, and event ids:"
   ]
  },
  {
   "cell_type": "code",
   "execution_count": 2,
   "metadata": {
    "collapsed": false
   },
   "outputs": [],
   "source": [
    "from Methods.proj1_helpers import *\n",
    "DATA_TRAIN_PATH = 'csv/train.csv'\n",
    "y, tX, ids = load_csv_data(DATA_TRAIN_PATH)"
   ]
  },
  {
   "cell_type": "markdown",
   "metadata": {},
   "source": [
    "## Generate predictions and save ouput in csv format for submission:"
   ]
  },
  {
   "cell_type": "code",
   "execution_count": 3,
   "metadata": {
    "collapsed": false
   },
   "outputs": [],
   "source": [
    "DATA_TEST_PATH = 'csv/test.csv' # TODO: download train data and supply path here \n",
    "_, tX_test, ids_test = load_csv_data(DATA_TEST_PATH)"
   ]
  },
  {
   "cell_type": "markdown",
   "metadata": {},
   "source": [
    "## Do your thing crazy machine learning thing here :) ..."
   ]
  },
  {
   "cell_type": "markdown",
   "metadata": {},
   "source": [
    "# Feature Processing"
   ]
  },
  {
   "cell_type": "code",
   "execution_count": 4,
   "metadata": {
    "collapsed": false
   },
   "outputs": [],
   "source": [
    "tX, tX_test = averageData(tX, tX_test)\n",
    "tX, tX_test = data_scaling(tX.T, tX_test.T)"
   ]
  },
  {
   "cell_type": "markdown",
   "metadata": {},
   "source": [
    "## Find Best Model"
   ]
  },
  {
   "cell_type": "code",
   "execution_count": 5,
   "metadata": {
    "collapsed": false
   },
   "outputs": [
    {
     "name": "stderr",
     "output_type": "stream",
     "text": [
      "/Users/JulieDjeffal/Documents/EPFL/pattern/2016/ML_project1/projects/project1/scripts/Methods/build_polynomial.py:29: RuntimeWarning: divide by zero encountered in log\n",
      "  new = np.array([np.log(x)])\n",
      "/Users/JulieDjeffal/Documents/EPFL/pattern/2016/ML_project1/projects/project1/scripts/Methods/build_polynomial.py:29: RuntimeWarning: invalid value encountered in log\n",
      "  new = np.array([np.log(x)])\n",
      "/Users/JulieDjeffal/anaconda/lib/python3.5/site-packages/numpy/lib/function_base.py:964: RuntimeWarning: invalid value encountered in multiply\n",
      "  scl = np.multiply(avg, 0) + scl\n",
      "/Users/JulieDjeffal/anaconda/lib/python3.5/site-packages/numpy/lib/function_base.py:2490: RuntimeWarning: invalid value encountered in subtract\n",
      "  X -= avg[:, None]\n",
      "/Users/JulieDjeffal/Documents/EPFL/pattern/2016/ML_project1/projects/project1/scripts/Methods/build_polynomial.py:25: RuntimeWarning: invalid value encountered in sqrt\n",
      "  new = np.array([np.sqrt(x)])\n"
     ]
    },
    {
     "name": "stdout",
     "output_type": "stream",
     "text": [
      "[-1.95808836  0.13548839 -0.69782112 ...,  0.20715263 -0.80155664\n",
      " -0.86394769]\n",
      "[-1.  1. -1. ...,  1. -1. -1.]\n",
      "[-1. -1. -1. ...,  1. -1. -1.]\n",
      "0.80712\n",
      "7\n"
     ]
    }
   ],
   "source": [
    "#y, x, tX, method,  tX_test, x_test, **kwargs\n",
    "for i in range(0, 30): \n",
    "    tX, tX_test = add_feature(y, tX[i], tX, log_def, tX_test, tX_test[i])\n",
    "    tX, tX_test = add_feature(y, tX[i], tX, multiply, tX_test, tX_test[i], degree=2)\n",
    "    tX, tX_test = add_feature(y, tX[i], tX, multiply, tX_test, tX_test[i], degree=3)\n",
    "    tX, tX_test = add_feature(y, tX[i], tX, sqrt_def, tX_test, tX_test[i])\n",
    "\n",
    "tX = tX.T\n",
    "\n",
    "seed = 1\n",
    "k_fold = 10\n",
    "\n",
    "# split data in k fold\n",
    "k_indices = build_k_indices(y, k_fold, seed)\n",
    "\n",
    "# define lists to store the loss of training data and test data\n",
    "rmse_tr = []\n",
    "rmse_te = []\n",
    "#k_list = list(range(k_fold))\n",
    "k=7\n",
    "tot_loss_tr = 0\n",
    "tot_loss_te = 0\n",
    "best_accuracy = 0\n",
    "best_k = 0\n",
    "weights = np.array([])\n",
    "#for k in k_list:\n",
    "loss_tr, loss_te, accuracy_least, w = cross_validation(y, tX, k_indices, k, least_squares)\n",
    "tot_loss_tr += loss_tr\n",
    "tot_loss_te += loss_te\n",
    "if accuracy_least > best_accuracy:\n",
    "    best_accuracy = accuracy_least\n",
    "    best_k = k\n",
    "    weights = w\n",
    "rmse_tr.append(np.sqrt(2/k_fold * tot_loss_tr))\n",
    "rmse_te.append(np.sqrt(2/k_fold * tot_loss_te))\n",
    "print(best_accuracy)\n",
    "print(best_k)\n",
    "#print(weights)\n"
   ]
  },
  {
   "cell_type": "markdown",
   "metadata": {},
   "source": [
    "### Binary Classification"
   ]
  },
  {
   "cell_type": "code",
   "execution_count": 7,
   "metadata": {
    "collapsed": false,
    "scrolled": true
   },
   "outputs": [],
   "source": [
    "OUTPUT_PATH = 'csv/sample-submission.csv' # TODO: fill in desired name of output file for submission\n",
    "y_pred = predict_labels(weights, tX_test.T)\n",
    "create_csv_submission(ids_test, y_pred, OUTPUT_PATH)"
   ]
  },
  {
   "cell_type": "code",
   "execution_count": null,
   "metadata": {
    "collapsed": true
   },
   "outputs": [],
   "source": []
  }
 ],
 "metadata": {
  "anaconda-cloud": {},
  "kernelspec": {
   "display_name": "Python [Root]",
   "language": "python",
   "name": "Python [Root]"
  },
  "language_info": {
   "codemirror_mode": {
    "name": "ipython",
    "version": 3
   },
   "file_extension": ".py",
   "mimetype": "text/x-python",
   "name": "python",
   "nbconvert_exporter": "python",
   "pygments_lexer": "ipython3",
   "version": "3.5.2"
  }
 },
 "nbformat": 4,
 "nbformat_minor": 0
}

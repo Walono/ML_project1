{
 "cells": [
  {
   "cell_type": "code",
   "execution_count": 1,
   "metadata": {
    "collapsed": false
   },
   "outputs": [],
   "source": [
    "# Useful starting lines\n",
    "%matplotlib inline\n",
    "import numpy as np\n",
    "import matplotlib.pyplot as plt\n",
    "from Methods.costs import * \n",
    "from Methods.least_squares import * \n",
    "from Methods.ridge import *\n",
    "from Methods.cross_validation import *\n",
    "from Methods.split_data import *\n",
    "from Methods.scaling_standardization import *\n",
    "from Methods.build_polynomial import *\n",
    "from Methods.clearDataset import *\n",
    "\n",
    "%load_ext autoreload\n",
    "%autoreload 2"
   ]
  },
  {
   "cell_type": "markdown",
   "metadata": {},
   "source": [
    "## Load the training data into feature matrix, class labels, and event ids:"
   ]
  },
  {
   "cell_type": "code",
   "execution_count": 2,
   "metadata": {
    "collapsed": false
   },
   "outputs": [],
   "source": [
    "from Methods.proj1_helpers import *\n",
    "DATA_TRAIN_PATH = 'csv/train.csv'\n",
    "y, tX, ids = load_csv_data(DATA_TRAIN_PATH)\n",
    "tX_tra = tX.T"
   ]
  },
  {
   "cell_type": "markdown",
   "metadata": {},
   "source": [
    "## Do your thing crazy machine learning thing here :) ..."
   ]
  },
  {
   "cell_type": "markdown",
   "metadata": {},
   "source": [
    "# Raw Data Analysis "
   ]
  },
  {
   "cell_type": "markdown",
   "metadata": {},
   "source": [
    "### Visualisation of the data"
   ]
  },
  {
   "cell_type": "code",
   "execution_count": 3,
   "metadata": {
    "collapsed": false
   },
   "outputs": [],
   "source": [
    "#Boxplot of the Raw Data\n",
    "#boxplot(tX, -2000, 6000, 'boxplot_original')"
   ]
  },
  {
   "cell_type": "markdown",
   "metadata": {},
   "source": [
    "# Feature Processing"
   ]
  },
  {
   "cell_type": "markdown",
   "metadata": {},
   "source": [
    "## Feature Deletion"
   ]
  },
  {
   "cell_type": "code",
   "execution_count": 4,
   "metadata": {
    "collapsed": true
   },
   "outputs": [],
   "source": [
    "#PERCENT_FACTOR = 0.5\n",
    "#dele_tX_temp = deleteNoneWantedData(tX, PERCENT_FACTOR)\n",
    "#dele_tX = deleteUnwantedLine(dele_tX_temp)"
   ]
  },
  {
   "cell_type": "markdown",
   "metadata": {},
   "source": [
    "## Replace Undefined variables by mean of all the other variables"
   ]
  },
  {
   "cell_type": "code",
   "execution_count": 5,
   "metadata": {
    "collapsed": false
   },
   "outputs": [],
   "source": [
    "tX = np.array(averageData(tX))"
   ]
  },
  {
   "cell_type": "markdown",
   "metadata": {},
   "source": [
    "## Data scaling "
   ]
  },
  {
   "cell_type": "code",
   "execution_count": 6,
   "metadata": {
    "collapsed": false
   },
   "outputs": [],
   "source": [
    "tX = data_scaling(tX.T)"
   ]
  },
  {
   "cell_type": "markdown",
   "metadata": {},
   "source": [
    "##### Boxplot of the scale data"
   ]
  },
  {
   "cell_type": "code",
   "execution_count": 7,
   "metadata": {
    "collapsed": false,
    "scrolled": true
   },
   "outputs": [],
   "source": [
    "#boxplot(tX, -0.5, 1.5, 'boxplot_scaled')"
   ]
  },
  {
   "cell_type": "markdown",
   "metadata": {},
   "source": [
    "## Data standardization"
   ]
  },
  {
   "cell_type": "code",
   "execution_count": 8,
   "metadata": {
    "collapsed": false
   },
   "outputs": [],
   "source": [
    "#tX = data_standardization(tX.T)"
   ]
  },
  {
   "cell_type": "markdown",
   "metadata": {},
   "source": [
    "##### Boxplot of the Standardized data"
   ]
  },
  {
   "cell_type": "code",
   "execution_count": 9,
   "metadata": {
    "collapsed": false
   },
   "outputs": [],
   "source": [
    "#boxplot(std_tX, -7, 7, 'boxplot_standardized')"
   ]
  },
  {
   "cell_type": "markdown",
   "metadata": {},
   "source": [
    "## Find Best Model"
   ]
  },
  {
   "cell_type": "code",
   "execution_count": 10,
   "metadata": {
    "collapsed": false
   },
   "outputs": [
    {
     "name": "stdout",
     "output_type": "stream",
     "text": [
      "0\n",
      "0.7606\n",
      "5\n",
      "1\n",
      "0.75808\n",
      "5\n",
      "2\n",
      "0.759\n",
      "5\n",
      "3\n",
      "0.75908\n",
      "4\n",
      "4\n",
      "0.75908\n",
      "4\n",
      "5\n",
      "0.75908\n",
      "4\n"
     ]
    },
    {
     "name": "stderr",
     "output_type": "stream",
     "text": [
      "/Users/JulieDjeffal/Documents/EPFL/pattern/2016/ML_project1/projects/project1/scripts/Methods/build_polynomial.py:17: RuntimeWarning: divide by zero encountered in log\n",
      "  new = np.array([np.log(x)])\n",
      "/Users/JulieDjeffal/anaconda/lib/python3.5/site-packages/numpy/lib/function_base.py:964: RuntimeWarning: invalid value encountered in multiply\n",
      "  scl = np.multiply(avg, 0) + scl\n",
      "/Users/JulieDjeffal/anaconda/lib/python3.5/site-packages/numpy/lib/function_base.py:2490: RuntimeWarning: invalid value encountered in subtract\n",
      "  X -= avg[:, None]\n"
     ]
    },
    {
     "name": "stdout",
     "output_type": "stream",
     "text": [
      "6\n",
      "0.75908\n",
      "4\n",
      "7\n",
      "0.7596\n",
      "5\n",
      "8\n",
      "0.76012\n",
      "5\n",
      "9\n",
      "0.76348\n",
      "5\n",
      "10\n",
      "0.7656\n",
      "5\n",
      "11\n",
      "0.7656\n",
      "5\n",
      "12\n",
      "0.7656\n",
      "5\n",
      "13\n",
      "0.76876\n",
      "4\n",
      "14\n",
      "0.77052\n",
      "4\n",
      "15\n",
      "0.77052\n",
      "4\n",
      "16\n",
      "0.77076\n",
      "4\n",
      "17\n",
      "0.7714\n",
      "2\n",
      "18\n",
      "0.77148\n",
      "2\n",
      "19\n",
      "0.77144\n",
      "4\n",
      "20\n",
      "0.77144\n",
      "4\n",
      "21\n",
      "0.773\n",
      "4\n",
      "22\n",
      "0.77252\n",
      "8\n",
      "23\n",
      "0.77252\n",
      "8\n",
      "24\n",
      "0.77576\n",
      "8\n",
      "25\n",
      "0.77624\n",
      "1\n",
      "26\n",
      "0.77628\n",
      "1\n",
      "27\n",
      "0.77888\n",
      "5\n",
      "28\n",
      "0.77908\n",
      "8\n",
      "29\n",
      "0.77976\n",
      "1\n"
     ]
    }
   ],
   "source": [
    "for i in range(0, 30):\n",
    "    tX = add_feature(y, tX.T[i], tX, log_def)\n",
    "    seed = 1\n",
    "    k_fold = 10\n",
    "\n",
    "    # split data in k fold\n",
    "    k_indices = build_k_indices(y, k_fold, seed)\n",
    "\n",
    "    # define lists to store the loss of training data and test data\n",
    "    rmse_tr = []\n",
    "    rmse_te = []\n",
    "    k_list = list(range(k_fold))\n",
    "    tot_loss_tr = 0\n",
    "    tot_loss_te = 0\n",
    "    best_accuracy = 0\n",
    "    best_k = 0\n",
    "    for k in k_list:\n",
    "        loss_tr, loss_te, accuracy_least = cross_validation(y, tX, k_indices, k, least_squares)\n",
    "        tot_loss_tr += loss_tr\n",
    "        tot_loss_te += loss_te\n",
    "        if accuracy_least > best_accuracy:\n",
    "            best_accuracy = accuracy_least\n",
    "            best_k = k\n",
    "    rmse_tr.append(np.sqrt(2/k_fold * tot_loss_tr))\n",
    "    rmse_te.append(np.sqrt(2/k_fold * tot_loss_te))\n",
    "    print(accuracy_least)\n",
    "    print(best_k)\n",
    "    \n",
    "    \n",
    "    "
   ]
  },
  {
   "cell_type": "code",
   "execution_count": 11,
   "metadata": {
    "collapsed": false
   },
   "outputs": [
    {
     "name": "stdout",
     "output_type": "stream",
     "text": [
      "0.78144\n",
      "1\n",
      "0.78144\n",
      "1\n",
      "0.78208\n",
      "1\n",
      "0.78208\n",
      "1\n",
      "0.78236\n",
      "7\n",
      "0.78236\n",
      "7\n",
      "0.78236\n",
      "7\n",
      "0.78236\n",
      "7\n",
      "0.78236\n",
      "7\n",
      "0.78236\n",
      "7\n",
      "0.78236\n",
      "7\n",
      "0.78408\n",
      "8\n",
      "0.7846\n",
      "8\n",
      "0.7846\n",
      "8\n",
      "0.78456\n",
      "8\n",
      "0.78472\n",
      "8\n",
      "0.78472\n",
      "8\n",
      "0.78496\n",
      "8\n",
      "0.78496\n",
      "8\n",
      "0.78384\n",
      "8\n",
      "0.78384\n",
      "8\n",
      "0.78384\n",
      "8\n",
      "0.78384\n",
      "8\n",
      "0.78384\n",
      "8\n",
      "0.78472\n",
      "8\n",
      "0.78404\n",
      "8\n",
      "0.78404\n",
      "8\n",
      "0.78424\n",
      "8\n",
      "0.78424\n",
      "8\n",
      "0.78424\n",
      "8\n"
     ]
    }
   ],
   "source": [
    "for i in range(0, 30):\n",
    "    tX = add_feature(y, tX.T[i], tX, multiply, degree=2)\n",
    "    seed = 1\n",
    "    k_fold = 10\n",
    "\n",
    "    # split data in k fold\n",
    "    k_indices = build_k_indices(y, k_fold, seed)\n",
    "\n",
    "    # define lists to store the loss of training data and test data\n",
    "    rmse_tr = []\n",
    "    rmse_te = []\n",
    "    k_list = list(range(k_fold))\n",
    "    tot_loss_tr = 0\n",
    "    tot_loss_te = 0\n",
    "    best_accuracy = 0\n",
    "    best_k = 0\n",
    "    for k in k_list:\n",
    "        loss_tr, loss_te, accuracy_least = cross_validation(y, tX, k_indices, k, least_squares)\n",
    "        tot_loss_tr += loss_tr\n",
    "        tot_loss_te += loss_te\n",
    "        if accuracy_least > best_accuracy:\n",
    "            best_accuracy = accuracy_least\n",
    "            best_k = k\n",
    "    rmse_tr.append(np.sqrt(2/k_fold * tot_loss_tr))\n",
    "    rmse_te.append(np.sqrt(2/k_fold * tot_loss_te))\n",
    "    print(accuracy_least)\n",
    "    print(best_k)"
   ]
  },
  {
   "cell_type": "markdown",
   "metadata": {},
   "source": [
    "## Big Magic Method"
   ]
  },
  {
   "cell_type": "code",
   "execution_count": null,
   "metadata": {
    "collapsed": false
   },
   "outputs": [],
   "source": [
    "#for i in range(0, 30):\n",
    "tX = add_feature(y, tX.T[1], tX, multiply,degree=2)\n",
    "\n",
    "#print(tX.shape)\n",
    "#newx = add_feature(y, , tX ,multiply,degree=2)  \n",
    "\n",
    "a = np.array([1, 2, 3])\n",
    "\n",
    "b = multiply(a, degree=2)\n",
    "c = log_def(a)\n",
    "\n",
    "print('tX.T[1]')\n",
    "print(tX.T[1])\n",
    "\n",
    "print('next step')\n",
    "\n",
    "tX = add_feature(y, tX.T[2], tX, multiply, degree=2)\n",
    "\n",
    "\n",
    "print('tX.T[1]')\n",
    "print(tX.T[1])\n",
    "\n",
    "print('next step')\n",
    "\n",
    "tX = add_feature(y, tX.T[3], tX, multiply, degree=2)\n",
    "\n",
    "\n",
    "print('tX.T[1]')\n",
    "print(tX.T[1])\n"
   ]
  },
  {
   "cell_type": "markdown",
   "metadata": {},
   "source": [
    "### Cross Validation"
   ]
  },
  {
   "cell_type": "markdown",
   "metadata": {},
   "source": [
    "### Least Squares"
   ]
  },
  {
   "cell_type": "code",
   "execution_count": null,
   "metadata": {
    "collapsed": false
   },
   "outputs": [],
   "source": [
    "seed = 1\n",
    "k_fold = 10\n",
    "\n",
    "# split data in k fold\n",
    "k_indices = build_k_indices(y, k_fold, seed)\n",
    "\n",
    "# define lists to store the loss of training data and test data\n",
    "rmse_tr = []\n",
    "rmse_te = []\n",
    "k_list = list(range(k_fold))\n",
    "tot_loss_tr = 0\n",
    "tot_loss_te = 0\n",
    "for k in k_list:\n",
    "    loss_tr, loss_te, accuracy_least = cross_validation(y, tX, k_indices, k, least_squares)\n",
    "    tot_loss_tr += loss_tr\n",
    "    tot_loss_te += loss_te\n",
    "rmse_tr.append(np.sqrt(2/k_fold * tot_loss_tr))\n",
    "rmse_te.append(np.sqrt(2/k_fold * tot_loss_te))\n",
    "\n",
    "accuracy_least"
   ]
  },
  {
   "cell_type": "code",
   "execution_count": null,
   "metadata": {
    "collapsed": true
   },
   "outputs": [],
   "source": []
  },
  {
   "cell_type": "code",
   "execution_count": null,
   "metadata": {
    "collapsed": true
   },
   "outputs": [],
   "source": []
  },
  {
   "cell_type": "code",
   "execution_count": null,
   "metadata": {
    "collapsed": true
   },
   "outputs": [],
   "source": []
  },
  {
   "cell_type": "code",
   "execution_count": null,
   "metadata": {
    "collapsed": true
   },
   "outputs": [],
   "source": []
  },
  {
   "cell_type": "code",
   "execution_count": null,
   "metadata": {
    "collapsed": true
   },
   "outputs": [],
   "source": []
  },
  {
   "cell_type": "code",
   "execution_count": null,
   "metadata": {
    "collapsed": true
   },
   "outputs": [],
   "source": []
  },
  {
   "cell_type": "code",
   "execution_count": null,
   "metadata": {
    "collapsed": true
   },
   "outputs": [],
   "source": []
  },
  {
   "cell_type": "code",
   "execution_count": null,
   "metadata": {
    "collapsed": true
   },
   "outputs": [],
   "source": []
  },
  {
   "cell_type": "code",
   "execution_count": null,
   "metadata": {
    "collapsed": true
   },
   "outputs": [],
   "source": []
  },
  {
   "cell_type": "code",
   "execution_count": null,
   "metadata": {
    "collapsed": true
   },
   "outputs": [],
   "source": []
  },
  {
   "cell_type": "code",
   "execution_count": null,
   "metadata": {
    "collapsed": true
   },
   "outputs": [],
   "source": []
  },
  {
   "cell_type": "markdown",
   "metadata": {},
   "source": [
    "### Ridge"
   ]
  },
  {
   "cell_type": "code",
   "execution_count": null,
   "metadata": {
    "collapsed": false
   },
   "outputs": [],
   "source": [
    "seed = 1\n",
    "k_fold = 10\n",
    "lambdas = np.logspace(-5, 1, 20)\n",
    "\n",
    "# split data in k fold\n",
    "k_indices = build_k_indices(y, k_fold, seed)\n",
    "\n",
    "# define lists to store the loss of training data and test data\n",
    "rmse_tr = []\n",
    "rmse_te = []\n",
    "best_accuracy = 0\n",
    "best_lamb = 0\n",
    "best_k = 0\n",
    "k_list = list(range(k_fold))\n",
    "for lamb in lambdas:\n",
    "    tot_loss_tr = 0\n",
    "    tot_loss_te = 0\n",
    "    for k in k_list:\n",
    "        loss_tr, loss_te, accuracy_ridge = cross_validation(y, tX, k_indices, k, ridge_regression, lamb = lamb)\n",
    "        if accuracy_ridge > best_accuracy:\n",
    "            best_accuracy = accuracy_ridge\n",
    "            best_lamb = lamb\n",
    "            best_k = k\n",
    "        tot_loss_tr += loss_tr\n",
    "        tot_loss_te += loss_te\n",
    "    rmse_tr.append(np.sqrt(2/k_fold * tot_loss_tr))\n",
    "    rmse_te.append(np.sqrt(2/k_fold * tot_loss_te))\n",
    "#plt.boxplot(rmse_te)\n",
    "#plt.show()\n",
    "#print(rmse_te)\n",
    "#cross_validation_visualization(lambdas, rmse_tr, rmse_te)\n",
    "print(best_accuracy)\n",
    "print(best_k)\n",
    "print(best_lamb)\n"
   ]
  },
  {
   "cell_type": "markdown",
   "metadata": {},
   "source": [
    "###  Bias-Variance decomposition"
   ]
  },
  {
   "cell_type": "code",
   "execution_count": null,
   "metadata": {
    "collapsed": true
   },
   "outputs": [],
   "source": []
  },
  {
   "cell_type": "markdown",
   "metadata": {},
   "source": [
    "### Binary Classification"
   ]
  },
  {
   "cell_type": "code",
   "execution_count": null,
   "metadata": {
    "collapsed": true
   },
   "outputs": [],
   "source": [
    "#Use predict_labels de project helpers (fait la multiplication entre tX et les w)"
   ]
  },
  {
   "cell_type": "markdown",
   "metadata": {},
   "source": [
    "## Generate predictions and save ouput in csv format for submission:"
   ]
  },
  {
   "cell_type": "code",
   "execution_count": null,
   "metadata": {
    "collapsed": false
   },
   "outputs": [],
   "source": [
    "DATA_TEST_PATH = 'csv/test.csv' # TODO: download train data and supply path here \n",
    "_, tX_test, ids_test = load_csv_data(DATA_TEST_PATH)"
   ]
  },
  {
   "cell_type": "code",
   "execution_count": null,
   "metadata": {
    "collapsed": false,
    "scrolled": true
   },
   "outputs": [],
   "source": [
    "OUTPUT_PATH = 'csv/sample-submission.csv' # TODO: fill in desired name of output file for submission\n",
    "y_pred = predict_labels(weights, tX_test)\n",
    "create_csv_submission(ids_test, y_pred, OUTPUT_PATH)"
   ]
  },
  {
   "cell_type": "code",
   "execution_count": null,
   "metadata": {
    "collapsed": true
   },
   "outputs": [],
   "source": []
  }
 ],
 "metadata": {
  "anaconda-cloud": {},
  "kernelspec": {
   "display_name": "Python [Root]",
   "language": "python",
   "name": "Python [Root]"
  },
  "language_info": {
   "codemirror_mode": {
    "name": "ipython",
    "version": 3
   },
   "file_extension": ".py",
   "mimetype": "text/x-python",
   "name": "python",
   "nbconvert_exporter": "python",
   "pygments_lexer": "ipython3",
   "version": "3.5.2"
  }
 },
 "nbformat": 4,
 "nbformat_minor": 0
}

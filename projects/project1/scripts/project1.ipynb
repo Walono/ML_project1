{
 "cells": [
  {
   "cell_type": "code",
   "execution_count": 23,
   "metadata": {
    "collapsed": false
   },
   "outputs": [
    {
     "name": "stdout",
     "output_type": "stream",
     "text": [
      "The autoreload extension is already loaded. To reload it, use:\n",
      "  %reload_ext autoreload\n"
     ]
    }
   ],
   "source": [
    "# Useful starting lines\n",
    "%matplotlib inline\n",
    "import numpy as np\n",
    "import matplotlib.pyplot as plt\n",
    "from costs import * \n",
    "from least_squares import * \n",
    "from ridge import *\n",
    "%load_ext autoreload\n",
    "%autoreload 2"
   ]
  },
  {
   "cell_type": "markdown",
   "metadata": {},
   "source": [
    "## Load the training data into feature matrix, class labels, and event ids:"
   ]
  },
  {
   "cell_type": "code",
   "execution_count": 34,
   "metadata": {
    "collapsed": false
   },
   "outputs": [],
   "source": [
    "from proj1_helpers import *\n",
    "DATA_TRAIN_PATH = 'train.csv' # TODO: download train data and supply path here \n",
    "y, tX, ids = load_csv_data(DATA_TRAIN_PATH)\n",
    "tX_tra = tX.T\n",
    "#conc = np.column_stack((y, tX))\n",
    "#conc_filtered = conc[~(conc == -999).any(1)]\n",
    "#y = conc_filtered[:,0]\n",
    "#tX = conc_filtered[:,1:]"
   ]
  },
  {
   "cell_type": "markdown",
   "metadata": {},
   "source": [
    "## Do your thing crazy machine learning thing here :) ..."
   ]
  },
  {
   "cell_type": "markdown",
   "metadata": {},
   "source": [
    "# Raw Data Analysis "
   ]
  },
  {
   "cell_type": "markdown",
   "metadata": {},
   "source": [
    "### Visualisation of the data"
   ]
  },
  {
   "cell_type": "code",
   "execution_count": 35,
   "metadata": {
    "collapsed": false,
    "scrolled": true
   },
   "outputs": [
    {
     "name": "stdout",
     "output_type": "stream",
     "text": [
      "(250000,)\n"
     ]
    }
   ],
   "source": [
    "print(np.shape(y))\n",
    "#print(tX[:,0])\n",
    "#for x in tX_tra:\n",
    "#    plt.plot(x)\n",
    "#    plt.show()"
   ]
  },
  {
   "cell_type": "code",
   "execution_count": 36,
   "metadata": {
    "collapsed": false
   },
   "outputs": [
    {
     "data": {
      "image/png": "[encoded data removed]",
      "text/plain": [
       "<matplotlib.figure.Figure at 0x125667860>"
      ]
     },
     "metadata": {},
     "output_type": "display_data"
    }
   ],
   "source": [
    "#Boxplot of the Raw Data\n",
    "\n",
    "#TODO : Add Legend for axis\n",
    "\n",
    "# Create a figure instance\n",
    "fig = plt.figure(1, figsize=(9, 6))\n",
    "\n",
    "# Create an axes instance\n",
    "ax = fig.add_subplot(111)\n",
    "\n",
    "# Create the boxplot\n",
    "bp = ax.boxplot(tX)\n",
    "\n",
    "ax.get_xaxis().tick_bottom()\n",
    "ax.get_yaxis().tick_left()\n",
    "\n",
    "axes = plt.gca()\n",
    "axes.set_ylim([-2000,6000])\n",
    "\n",
    "fig.savefig('boxplot_original.pdf')"
   ]
  },
  {
   "cell_type": "markdown",
   "metadata": {},
   "source": [
    "## Data scaling "
   ]
  },
  {
   "cell_type": "code",
   "execution_count": 30,
   "metadata": {
    "collapsed": false
   },
   "outputs": [],
   "source": [
    "minma_tX_tra = (tX_tra - tX_tra.min()) / (tX_tra.max() - tX_tra.min())\n",
    "minima_tX = minma_tX_tra.T\n",
    "#print(np.shape(minima_tX))\n",
    "#print(np.shape(tX))\n"
   ]
  },
  {
   "cell_type": "markdown",
   "metadata": {},
   "source": [
    "##### Boxplot of the scale data"
   ]
  },
  {
   "cell_type": "code",
   "execution_count": 31,
   "metadata": {
    "collapsed": false,
    "scrolled": true
   },
   "outputs": [
    {
     "data": {
      "text/plain": [
       "(-0.5, 1.5)"
      ]
     },
     "execution_count": 31,
     "metadata": {},
     "output_type": "execute_result"
    },
    {
     "data": {
      "image/png": "[encoded data removed]",
      "text/plain": [
       "<matplotlib.figure.Figure at 0x10adfb550>"
      ]
     },
     "metadata": {},
     "output_type": "display_data"
    }
   ],
   "source": [
    "#Boxplot of the Normalized Data\n",
    "# Create a figure instance\n",
    "fig = plt.figure(1, figsize=(9, 6))\n",
    "\n",
    "# Create an axes instance\n",
    "ax = fig.add_subplot(111)\n",
    "\n",
    "# Create the boxplot\n",
    "bp = ax.boxplot(minima_tX)\n",
    "\n",
    "ax.get_xaxis().tick_bottom()\n",
    "ax.get_yaxis().tick_left()\n",
    "\n",
    "axes = plt.gca()\n",
    "axes.set_ylim([-0.5,1.5])"
   ]
  },
  {
   "cell_type": "markdown",
   "metadata": {},
   "source": [
    "## Data standardization"
   ]
  },
  {
   "cell_type": "code",
   "execution_count": 32,
   "metadata": {
    "collapsed": false
   },
   "outputs": [
    {
     "name": "stdout",
     "output_type": "stream",
     "text": [
      "[[ 1.4867924   0.13888078  0.85575891 ..., -0.64387525 -0.70155528\n",
      "   1.09905529]\n",
      " [ 0.8252709   0.61641352  0.69451665 ..., -1.80317679 -1.80317679\n",
      "   0.56533276]\n",
      " [-1.64323461  0.83799506  0.76060113 ..., -1.64323461 -1.64323461\n",
      "   0.58601767]\n",
      " ..., \n",
      " [ 0.70877105  0.60654838  0.64138704 ..., -1.80398273 -1.80398273\n",
      "   0.56438162]\n",
      " [ 0.85592142  0.69921409  0.80173135 ..., -1.41200296 -1.41200296\n",
      "   0.65907376]\n",
      " [-1.31240075  0.85683376  0.85293756 ..., -1.31240075 -1.31240075\n",
      "   0.70957559]] \n",
      "\n",
      " [ 0.39067852  0.44355703  0.6070142   0.59277833 -1.26117225 -0.46909969\n",
      " -1.26759346  0.25670126  0.346811    1.16634137  0.25311852  0.24749672\n",
      " -1.26621046  0.42849199  0.2464531   0.24646195  0.46476609  0.246438\n",
      "  0.24668636  0.45116739  0.2464719   1.40140474  0.25409255 -0.2522227\n",
      " -0.57073461 -0.57076069 -1.11021943 -1.26748861 -1.26745577  0.76602663] \n",
      "\n",
      " [ 1.08178055  0.4476243   0.33680788  0.28655948  0.50296042  1.92002852\n",
      "  0.4932371   0.51695591  0.43771202  0.67286512  0.51893019  0.52167442\n",
      "  0.49565749  0.37685068  0.52484182  0.52490784  0.35421343  0.52482585\n",
      "  0.52474533  0.36224873  0.52487325  0.9137633   0.51405144  0.94415079\n",
      "  0.77626289  0.77627221  0.72919078  0.49396435  0.4940254   0.34068606]\n"
     ]
    }
   ],
   "source": [
    "#np.mean(tX, axis=0)\n",
    "centered_tX_tra = tX_tra - np.mean(tX_tra, axis=0)\n",
    "std_tX_tra = centered_tX_tra / np.std(centered_tX_tra, axis=0)\n",
    "\n",
    "std_tX = std_tX_tra.T\n",
    "\n",
    "print(std_tX, \"\\n\\n\", np.mean(std_tX, axis=0), \"\\n\\n\", np.std(std_tX, axis=0))"
   ]
  },
  {
   "cell_type": "markdown",
   "metadata": {},
   "source": [
    "##### Boxplot of the Standardized data"
   ]
  },
  {
   "cell_type": "code",
   "execution_count": 33,
   "metadata": {
    "collapsed": false
   },
   "outputs": [
    {
     "data": {
      "text/plain": [
       "(-7, 7)"
      ]
     },
     "execution_count": 33,
     "metadata": {},
     "output_type": "execute_result"
    },
    {
     "data": {
      "image/png": "[encoded data removed]",
      "text/plain": [
       "<matplotlib.figure.Figure at 0x113fca6d8>"
      ]
     },
     "metadata": {},
     "output_type": "display_data"
    }
   ],
   "source": [
    "#Boxplot of the Normalized Data\n",
    "# Create a figure instance\n",
    "fig = plt.figure(1, figsize=(9, 6))\n",
    "\n",
    "# Create an axes instance\n",
    "ax = fig.add_subplot(111)\n",
    "\n",
    "# Create the boxplot\n",
    "bp = ax.boxplot(std_tX)\n",
    "\n",
    "ax.get_xaxis().tick_bottom()\n",
    "ax.get_yaxis().tick_left()\n",
    "\n",
    "axes = plt.gca()\n",
    "axes.set_ylim([-7,7])"
   ]
  },
  {
   "cell_type": "markdown",
   "metadata": {},
   "source": [
    "## Scatter plots"
   ]
  },
  {
   "cell_type": "code",
   "execution_count": 34,
   "metadata": {
    "collapsed": false
   },
   "outputs": [
    {
     "data": {
      "image/png": "[encoded data removed]",
      "text/plain": [
       "<matplotlib.figure.Figure at 0x1375da320>"
      ]
     },
     "metadata": {},
     "output_type": "display_data"
    }
   ],
   "source": [
    "res = np.column_stack((y, tX[:,12])) # Change with tX[:,i] to plot y against the ith col of tX\n",
    "res_filt = res[res[:,1] != -999]\n",
    "plt.scatter(res_filt[:,1], res_filt[:,0])\n",
    "plt.show()"
   ]
  },
  {
   "cell_type": "markdown",
   "metadata": {},
   "source": [
    "## Correlations (not useful?)"
   ]
  },
  {
   "cell_type": "code",
   "execution_count": 35,
   "metadata": {
    "collapsed": false
   },
   "outputs": [
    {
     "name": "stdout",
     "output_type": "stream",
     "text": [
      "0 0.239149057892\n",
      "1 -0.351427955862\n",
      "2 -0.0140552737849\n",
      "3 0.192526328569\n",
      "4 0.141645992566\n",
      "5 0.191766088075\n",
      "6 0.140554400465\n",
      "7 0.0122454812855\n",
      "8 -0.0152874266878\n",
      "9 0.153235932476\n",
      "10 -0.195397896183\n",
      "11 0.271751877052\n",
      "12 0.141345988596\n",
      "13 0.235237975878\n",
      "14 -0.000943251058212\n",
      "15 -0.00440253868639\n",
      "16 -0.0319475868053\n",
      "17 0.00151623537706\n",
      "18 0.00412544741152\n",
      "19 0.0224657515108\n",
      "20 0.00747534218859\n",
      "21 0.135520261523\n",
      "22 0.133549123082\n",
      "23 0.157604145676\n",
      "24 0.15046926005\n",
      "25 0.150468037793\n",
      "26 0.14071436695\n",
      "27 0.141264913776\n",
      "28 0.141255686505\n",
      "29 0.134295726669\n"
     ]
    }
   ],
   "source": [
    "for i,col in zip(range(std_tX.T.shape[0]),std_tX.T):\n",
    "    vec = np.column_stack((y,col))\n",
    "    #vec_filtered = vec[vec[:,1] > -998]\n",
    "    print(i, np.corrcoef(vec.T)[0,1])"
   ]
  },
  {
   "cell_type": "markdown",
   "metadata": {},
   "source": [
    "### Least Squares"
   ]
  },
  {
   "cell_type": "code",
   "execution_count": 20,
   "metadata": {
    "collapsed": false
   },
   "outputs": [
    {
     "name": "stdout",
     "output_type": "stream",
     "text": [
      "(250000, 30)\n",
      "[  8.03911103e-05  -7.20111773e-03  -6.05471144e-03  -5.47536204e-04\n",
      "  -1.93854515e-02   4.73443447e-04  -2.60377713e-02   3.25108467e-01\n",
      "  -3.81085734e-05  -2.72787181e+00  -2.21219603e-01   9.50810773e-02\n",
      "   6.40330195e-02   2.73613146e+00  -3.31801854e-04  -9.54327420e-04\n",
      "   2.74088821e+00  -5.34165287e-04   9.73498892e-04   3.69225050e-03\n",
      "   3.54487161e-04  -5.43344617e-04  -3.30448034e-01  -1.40800496e-03\n",
      "   8.31432873e-04   1.02117271e-03  -1.68047418e-03  -5.83664769e-03\n",
      "  -1.11088005e-02   2.72833175e+00]\n",
      "0.339686809915\n"
     ]
    }
   ],
   "source": [
    "print(np.shape(tX))\n",
    "mse, w = least_squares(y, tX)\n",
    "print(w)\n",
    "print(mse)"
   ]
  },
  {
   "cell_type": "markdown",
   "metadata": {},
   "source": [
    "### Ridge Regression"
   ]
  },
  {
   "cell_type": "code",
   "execution_count": 25,
   "metadata": {
    "collapsed": false
   },
   "outputs": [
    {
     "name": "stdout",
     "output_type": "stream",
     "text": [
      "[  1.98628815e-04  -8.39656035e-03  -3.22311998e-03  -2.06213002e-03\n",
      "  -1.13848439e-02   4.91720836e-04  -2.05135585e-02   1.01683862e-01\n",
      "  -1.49557627e-05   3.83138841e-03  -8.60779329e-02   8.16367032e-02\n",
      "   3.42443158e-02   5.15657721e-03  -4.37703313e-04  -1.27074718e-03\n",
      "   4.15478660e-03  -5.41025171e-04   9.28858575e-04   4.71409380e-03\n",
      "   4.53983949e-04  -7.26027320e-04  -9.49952316e-02   8.41627937e-04\n",
      "  -4.41338632e-04  -2.00086360e-04  -2.04653783e-04   1.59679327e-04\n",
      "  -2.54485619e-03  -5.47587190e-03]\n"
     ]
    }
   ],
   "source": [
    "w = ridge_regression(y, tX, 0.1)\n",
    "print(w)"
   ]
  },
  {
   "cell_type": "code",
   "execution_count": null,
   "metadata": {
    "collapsed": true
   },
   "outputs": [],
   "source": []
  },
  {
   "cell_type": "markdown",
   "metadata": {},
   "source": [
    "## Generate predictions and save ouput in csv format for submission:"
   ]
  },
  {
   "cell_type": "code",
   "execution_count": 3,
   "metadata": {
    "collapsed": false
   },
   "outputs": [],
   "source": [
    "DATA_TEST_PATH = 'test.csv' # TODO: download train data and supply path here \n",
    "_, tX_test, ids_test = load_csv_data(DATA_TEST_PATH)"
   ]
  },
  {
   "cell_type": "code",
   "execution_count": 4,
   "metadata": {
    "collapsed": false,
    "scrolled": true
   },
   "outputs": [
    {
     "ename": "NameError",
     "evalue": "name 'weights' is not defined",
     "output_type": "error",
     "traceback": [
      "\u001b[0;31m---------------------------------------------------------------------------\u001b[0m",
      "\u001b[0;31mNameError\u001b[0m                                 Traceback (most recent call last)",
      "\u001b[0;32m<ipython-input-4-e75050002197>\u001b[0m in \u001b[0;36m<module>\u001b[0;34m()\u001b[0m\n\u001b[1;32m      1\u001b[0m \u001b[0mOUTPUT_PATH\u001b[0m \u001b[0;34m=\u001b[0m \u001b[0;34m'sample-submission.csv'\u001b[0m \u001b[0;31m# TODO: fill in desired name of output file for submission\u001b[0m\u001b[0;34m\u001b[0m\u001b[0m\n\u001b[0;32m----> 2\u001b[0;31m \u001b[0my_pred\u001b[0m \u001b[0;34m=\u001b[0m \u001b[0mpredict_labels\u001b[0m\u001b[0;34m(\u001b[0m\u001b[0mweights\u001b[0m\u001b[0;34m,\u001b[0m \u001b[0mtX_test\u001b[0m\u001b[0;34m)\u001b[0m\u001b[0;34m\u001b[0m\u001b[0m\n\u001b[0m\u001b[1;32m      3\u001b[0m \u001b[0mcreate_csv_submission\u001b[0m\u001b[0;34m(\u001b[0m\u001b[0mids_test\u001b[0m\u001b[0;34m,\u001b[0m \u001b[0my_pred\u001b[0m\u001b[0;34m,\u001b[0m \u001b[0mOUTPUT_PATH\u001b[0m\u001b[0;34m)\u001b[0m\u001b[0;34m\u001b[0m\u001b[0m\n",
      "\u001b[0;31mNameError\u001b[0m: name 'weights' is not defined"
     ]
    }
   ],
   "source": [
    "OUTPUT_PATH = 'sample-submission.csv' # TODO: fill in desired name of output file for submission\n",
    "y_pred = predict_labels(weights, tX_test)\n",
    "create_csv_submission(ids_test, y_pred, OUTPUT_PATH)"
   ]
  },
  {
   "cell_type": "code",
   "execution_count": null,
   "metadata": {
    "collapsed": true
   },
   "outputs": [],
   "source": []
  }
 ],
 "metadata": {
  "anaconda-cloud": {},
  "kernelspec": {
   "display_name": "Python [Root]",
   "language": "python",
   "name": "Python [Root]"
  },
  "language_info": {
   "codemirror_mode": {
    "name": "ipython",
    "version": 3
   },
   "file_extension": ".py",
   "mimetype": "text/x-python",
   "name": "python",
   "nbconvert_exporter": "python",
   "pygments_lexer": "ipython3",
   "version": "3.5.2"
  }
 },
 "nbformat": 4,
 "nbformat_minor": 0
}
